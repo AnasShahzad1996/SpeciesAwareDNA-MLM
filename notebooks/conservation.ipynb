{
 "cells": [
  {
   "cell_type": "code",
   "execution_count": 1,
   "metadata": {},
   "outputs": [],
   "source": [
    "import sys \n",
    "sys.path.insert(0, \"..\")\n",
    "import glob as glob\n",
    "import os\n",
    "import pandas as pd\n",
    "from Bio import SeqIO\n",
    "import matplotlib.pyplot as plt\n",
    "import numpy as np\n",
    "from helpers.plots import MotifMetrics, LoadedMotifMetrics, MetricsHandler"
   ]
  },
  {
   "cell_type": "code",
   "execution_count": 2,
   "metadata": {},
   "outputs": [],
   "source": [
    "folders = \"/home/lukas/Projects/test/3_prime_UTR/\""
   ]
  },
  {
   "cell_type": "code",
   "execution_count": 3,
   "metadata": {},
   "outputs": [],
   "source": [
    "# read fa file into pd dataframe\n",
    "def read_fa(file_name):\n",
    "    sequences = []\n",
    "    ids = []\n",
    "    species = []\n",
    "    pos = []\n",
    "    for s in SeqIO.parse(file_name, \"fasta\"):\n",
    "        infos = s.id.split(\":\")\n",
    "        ids.append(infos[0])\n",
    "        species.append(infos[1])\n",
    "        pos.append(infos[2])\n",
    "\n",
    "        # exception for old file\n",
    "        if len(infos) == 4:\n",
    "            pos[-1] = infos[3]\n",
    "        \n",
    "        sequences.append(str(s.seq).upper())\n",
    "    return pd.DataFrame({\"seq\":sequences, \"id\":ids, \"species\":species, \"pos\":pos})\n"
   ]
  },
  {
   "cell_type": "code",
   "execution_count": 4,
   "metadata": {},
   "outputs": [
    {
     "name": "stdout",
     "output_type": "stream",
     "text": [
      "\n"
     ]
    },
    {
     "data": {
      "image/png": "[encoded data removed]",
      "text/plain": [
       "<Figure size 640x480 with 1 Axes>"
      ]
     },
     "metadata": {},
     "output_type": "display_data"
    }
   ],
   "source": [
    "founds = []\n",
    "for chrom in range(1,23):\n",
    "    founds.append(len(glob.glob(folders + f\"*/*_chr{chrom}_*.fa\")))\n",
    "# plot barplot for founds\n",
    "plt.clf()        \n",
    "plt.bar(range(1,len(founds)+1), founds)\n",
    "plt.xlabel(\"Chromosomes\")\n",
    "plt.ylabel(\"Number of files\")\n",
    "plt.xticks(range(1,len(founds)+1))\n",
    "print()"
   ]
  },
  {
   "cell_type": "code",
   "execution_count": 5,
   "metadata": {},
   "outputs": [
    {
     "name": "stdout",
     "output_type": "stream",
     "text": [
      "18134\n"
     ]
    }
   ],
   "source": [
    "old_file=\"/home/lukas/Projects/test/Homo_sapiens_3prime_UTR.fa\"\n",
    "old_data = read_fa(old_file)\n",
    "print(len(old_data))"
   ]
  },
  {
   "cell_type": "code",
   "execution_count": 6,
   "metadata": {},
   "outputs": [
    {
     "name": "stdout",
     "output_type": "stream",
     "text": [
      "18178\n",
      "18178\n",
      "18134\n"
     ]
    }
   ],
   "source": [
    "test = True\n",
    "all_fa_files = glob.glob(f\"{folders}/*/*.fa\")\n",
    "all_fa_files = list(map(lambda x: os.path.basename(x), all_fa_files))\n",
    "x1 = len(all_fa_files)\n",
    "x2 = len(np.unique(all_fa_files))\n",
    "print(x1)\n",
    "print(x2)\n",
    "print(len(old_data))"
   ]
  },
  {
   "attachments": {},
   "cell_type": "markdown",
   "metadata": {},
   "source": [
    "Seems like every file is unique, but Homo sapiens is missing in a couple"
   ]
  },
  {
   "cell_type": "code",
   "execution_count": 7,
   "metadata": {},
   "outputs": [
    {
     "name": "stdout",
     "output_type": "stream",
     "text": [
      "0/18178\n",
      "1000/18178\n",
      "2000/18178\n",
      "3000/18178\n",
      "4000/18178\n",
      "5000/18178\n",
      "6000/18178\n",
      "7000/18178\n",
      "8000/18178\n",
      "9000/18178\n",
      "10000/18178\n",
      "11000/18178\n",
      "12000/18178\n",
      "13000/18178\n",
      "14000/18178\n",
      "15000/18178\n",
      "16000/18178\n",
      "17000/18178\n",
      "18000/18178\n"
     ]
    }
   ],
   "source": [
    "not_contained = []\n",
    "for i, f in enumerate(all_fa_files):\n",
    "    if i % 1000 == 0:\n",
    "        print(f\"{i}/{len(all_fa_files)}\")\n",
    "    \n",
    "    if len(old_data.loc[old_data[\"id\"] == f[:-3]]) == 0:\n",
    "        not_contained.append(f)\n"
   ]
  },
  {
   "cell_type": "code",
   "execution_count": 8,
   "metadata": {},
   "outputs": [
    {
     "name": "stdout",
     "output_type": "stream",
     "text": [
      "                                                 seq  \\\n",
      "0  GTAACCAAGGAGCAGTGAACAGCAGCTACTACAGTAGTGGAAGCCG...   \n",
      "1  GCAGCCAAGGAGCAGTGAACAGCAGCTACTACAGTAGTGGAAGCCG...   \n",
      "2  GTAGCCAAGGAACAGTGAACAGCAGCTACTACAGTAGCGGAAGCCG...   \n",
      "3  GCGGCCAAGGCGCAGCGAACAGCAGCTACTACAGTAGCGGGAGCCG...   \n",
      "4  GCAGCCAAGGAGCAGTGAACAGCAGCTACTACAGTAGTGGAAGCCG...   \n",
      "\n",
      "                                             id                 species  pos  \n",
      "0  ENST00000393432.9_utr3_13_0_chr5_179614178_r            Homo_sapiens  782  \n",
      "1  ENST00000393432.9_utr3_13_0_chr5_179614178_r        Acinonyx_jubatus  782  \n",
      "2  ENST00000393432.9_utr3_13_0_chr5_179614178_r        Acomys_cahirinus  782  \n",
      "3  ENST00000393432.9_utr3_13_0_chr5_179614178_r  Ailuropoda_melanoleuca  782  \n",
      "4  ENST00000393432.9_utr3_13_0_chr5_179614178_r         Ailurus_fulgens  782  \n"
     ]
    }
   ],
   "source": [
    "for f in not_contained:\n",
    "    file = glob.glob(folders + \"*/\" + f)[0]\n",
    "    check_df = read_fa(file)\n",
    "    break\n",
    "print(check_df.head())"
   ]
  },
  {
   "attachments": {},
   "cell_type": "markdown",
   "metadata": {},
   "source": [
    "-> seems to contain Homo_sapiens... maybe something else was wrong in this file"
   ]
  },
  {
   "cell_type": "code",
   "execution_count": 19,
   "metadata": {},
   "outputs": [
    {
     "name": "stdout",
     "output_type": "stream",
     "text": [
      "TGAAC\n"
     ]
    },
    {
     "data": {
      "text/plain": [
       "0.7385892116182573"
      ]
     },
     "execution_count": 19,
     "metadata": {},
     "output_type": "execute_result"
    }
   ],
   "source": [
    "def calculate_conservation(id, folder, position_start=15, position_end=20):\n",
    "    file = glob.glob(f\"{os.path.join(folder, f'*/{id}*.fa')}\")[0]\n",
    "    df = read_fa(file)\n",
    "\n",
    "    motif_hs = df.loc[df[\"species\"] == \"Homo_sapiens\"][\"seq\"][0][position_start:position_end]\n",
    "    print(motif_hs)\n",
    "    seqs = list(map(lambda x: x[position_start:position_end], list(df[\"seq\"])))\n",
    "\n",
    "    # conservation score is number of times motif_hs appears in seqs / len(seqs)\n",
    "    conservation_score = seqs.count(motif_hs)/len(seqs)\n",
    "    return conservation_score\n",
    "    \n",
    "\n",
    "calculate_conservation(id=\"ENST00000393432.9_utr3_13_0_chr5_179614178_r\", folder = folders)"
   ]
  }
 ],
 "metadata": {
  "kernelspec": {
   "display_name": "ML4RG-mlm",
   "language": "python",
   "name": "python3"
  },
  "language_info": {
   "codemirror_mode": {
    "name": "ipython",
    "version": 3
   },
   "file_extension": ".py",
   "mimetype": "text/x-python",
   "name": "python",
   "nbconvert_exporter": "python",
   "pygments_lexer": "ipython3",
   "version": "3.9.16"
  },
  "orig_nbformat": 4
 },
 "nbformat": 4,
 "nbformat_minor": 2
}
