{
 "cells": [
  {
   "attachments": {},
   "cell_type": "markdown",
   "metadata": {},
   "source": [
    "# Debugging markov_model"
   ]
  },
  {
   "attachments": {},
   "cell_type": "markdown",
   "metadata": {},
   "source": [
    "# Imports"
   ]
  },
  {
   "cell_type": "code",
   "execution_count": 1,
   "metadata": {},
   "outputs": [],
   "source": [
    "%load_ext autoreload\n",
    "%autoreload 2\n",
    "\n",
    "import sys, os\n",
    "sys.path.insert(0, '../../')\n",
    "\n",
    "import gc\n",
    "import pysam\n",
    "import pandas as pd\n",
    "import re\n",
    "import torch\n",
    "from torch.utils.data import DataLoader, Dataset\n",
    "import matplotlib.pyplot as plt\n",
    "import numpy as np\n",
    "\n",
    "\n",
    "import helpers.train_eval as train_eval    #train and evaluation\n",
    "import helpers.misc as misc                #miscellaneous functions\n",
    "\n",
    "import encoding_utils.sequence_encoders as sequence_encoders\n",
    "import encoding_utils.sequence_utils as sequence_utils\n",
    "from models.spec_dss import DSSResNet, DSSResNetEmb, SpecAdd\n",
    "import models.baseline.markov_model as mm\n",
    "import models.baseline.markov_model_orig as mm_orig\n",
    "\n",
    "from Bio import SeqIO\n",
    "import pickle"
   ]
  },
  {
   "attachments": {},
   "cell_type": "markdown",
   "metadata": {},
   "source": [
    "# Data"
   ]
  },
  {
   "cell_type": "code",
   "execution_count": 3,
   "metadata": {},
   "outputs": [
    {
     "data": {
      "text/html": [
       "<div>\n",
       "<style scoped>\n",
       "    .dataframe tbody tr th:only-of-type {\n",
       "        vertical-align: middle;\n",
       "    }\n",
       "\n",
       "    .dataframe tbody tr th {\n",
       "        vertical-align: top;\n",
       "    }\n",
       "\n",
       "    .dataframe thead th {\n",
       "        text-align: right;\n",
       "    }\n",
       "</style>\n",
       "<table border=\"1\" class=\"dataframe\">\n",
       "  <thead>\n",
       "    <tr style=\"text-align: right;\">\n",
       "      <th></th>\n",
       "      <th>3-UTR</th>\n",
       "    </tr>\n",
       "  </thead>\n",
       "  <tbody>\n",
       "    <tr>\n",
       "      <th>0</th>\n",
       "      <td>ATCTTATATAACTGTGAGATTAATCTCAGATAATGACACAAAATAT...</td>\n",
       "    </tr>\n",
       "    <tr>\n",
       "      <th>1</th>\n",
       "      <td>GGTTGCCGGGGGTAGGGGTGGGGCCACACAAATCTCCAGGAGCCAC...</td>\n",
       "    </tr>\n",
       "    <tr>\n",
       "      <th>2</th>\n",
       "      <td>GGCAGCCCATCTGGGGGGCCTGTAGGGGCTGCCGGGCTGGTGGCCA...</td>\n",
       "    </tr>\n",
       "    <tr>\n",
       "      <th>3</th>\n",
       "      <td>CCCACCTACCACCAGAGGCCTGCAGCCTCCCACATGCCTTAAGGGG...</td>\n",
       "    </tr>\n",
       "    <tr>\n",
       "      <th>4</th>\n",
       "      <td>TGGCCGCGGTGAGGTGGGTTCTCAGGACCACCCTCGCCAAGCTCCA...</td>\n",
       "    </tr>\n",
       "    <tr>\n",
       "      <th>...</th>\n",
       "      <td>...</td>\n",
       "    </tr>\n",
       "    <tr>\n",
       "      <th>16315</th>\n",
       "      <td>CCGTATGAAGATGTCCTGTTAAATTTACAACACTAACGATGTAGAC...</td>\n",
       "    </tr>\n",
       "    <tr>\n",
       "      <th>16316</th>\n",
       "      <td>ACACACCCCCGAAAAACACAAGACCGACCCAAAATCTAGAGGAAAG...</td>\n",
       "    </tr>\n",
       "    <tr>\n",
       "      <th>16317</th>\n",
       "      <td>AGAAGCTAAAAGGAAAGAAAATAAATCTATCAAAATTACCCTAAAC...</td>\n",
       "    </tr>\n",
       "    <tr>\n",
       "      <th>16318</th>\n",
       "      <td>CTTCACTTTTGGGCTCAAGGACTGTGTGAACCAACAAGGGGCCAGT...</td>\n",
       "    </tr>\n",
       "    <tr>\n",
       "      <th>16319</th>\n",
       "      <td>TAGACAATGAGCTGCGAAAAGACTCCTGGTTCCCCTGTTGATTTGT...</td>\n",
       "    </tr>\n",
       "  </tbody>\n",
       "</table>\n",
       "<p>16320 rows × 1 columns</p>\n",
       "</div>"
      ],
      "text/plain": [
       "                                                   3-UTR\n",
       "0      ATCTTATATAACTGTGAGATTAATCTCAGATAATGACACAAAATAT...\n",
       "1      GGTTGCCGGGGGTAGGGGTGGGGCCACACAAATCTCCAGGAGCCAC...\n",
       "2      GGCAGCCCATCTGGGGGGCCTGTAGGGGCTGCCGGGCTGGTGGCCA...\n",
       "3      CCCACCTACCACCAGAGGCCTGCAGCCTCCCACATGCCTTAAGGGG...\n",
       "4      TGGCCGCGGTGAGGTGGGTTCTCAGGACCACCCTCGCCAAGCTCCA...\n",
       "...                                                  ...\n",
       "16315  CCGTATGAAGATGTCCTGTTAAATTTACAACACTAACGATGTAGAC...\n",
       "16316  ACACACCCCCGAAAAACACAAGACCGACCCAAAATCTAGAGGAAAG...\n",
       "16317  AGAAGCTAAAAGGAAAGAAAATAAATCTATCAAAATTACCCTAAAC...\n",
       "16318  CTTCACTTTTGGGCTCAAGGACTGTGTGAACCAACAAGGGGCCAGT...\n",
       "16319  TAGACAATGAGCTGCGAAAAGACTCCTGGTTCCCCTGTTGATTTGT...\n",
       "\n",
       "[16320 rows x 1 columns]"
      ]
     },
     "execution_count": 3,
     "metadata": {},
     "output_type": "execute_result"
    }
   ],
   "source": [
    "# load the train data if it exists\n",
    "file_path = 'train_df.pickle'\n",
    "if os.path.exists(file_path):\n",
    "    with open(file_path, 'rb') as f:\n",
    "        train_df = pickle.load(f)\n",
    "else:\n",
    "    # load the fasta file and select the train data\n",
<<<<<<< HEAD
    "    fasta_file = \"../../../test/Homo_sapiens_3prime_UTR.fa\"\n",
=======
    "    fasta_file = \"../../Homo_sapiens_3prime_UTR.fa\"\n",
>>>>>>> 8d4699e (readding lost plotting conservation)
    "    sequences = []\n",
    "    for s in SeqIO.parse(fasta_file, \"fasta\"):\n",
    "        sequences.append(str(s.seq).upper())\n",
    "    # get the train fraction\n",
    "    val_fraction = 0.1\n",
    "    N_train = int(len(sequences)*(1-val_fraction))\n",
    "    train_data = sequences[:N_train]\n",
    "    # store it as a dataframe\n",
    "    train_df = pd.DataFrame({'3-UTR':train_data})\n",
    "    with open(file_path, 'wb') as f:\n",
    "        pickle.dump(train_df, f)\n",
    "train_df"
   ]
  },
  {
   "cell_type": "code",
   "execution_count": 4,
   "metadata": {},
   "outputs": [
    {
     "data": {
      "text/html": [
       "<div>\n",
       "<style scoped>\n",
       "    .dataframe tbody tr th:only-of-type {\n",
       "        vertical-align: middle;\n",
       "    }\n",
       "\n",
       "    .dataframe tbody tr th {\n",
       "        vertical-align: top;\n",
       "    }\n",
       "\n",
       "    .dataframe thead th {\n",
       "        text-align: right;\n",
       "    }\n",
       "</style>\n",
       "<table border=\"1\" class=\"dataframe\">\n",
       "  <thead>\n",
       "    <tr style=\"text-align: right;\">\n",
       "      <th></th>\n",
       "      <th>3-UTR</th>\n",
       "    </tr>\n",
       "  </thead>\n",
       "  <tbody>\n",
       "    <tr>\n",
       "      <th>0</th>\n",
       "      <td>CCCCCAGAACCAGTGGGACAAACTGCCTCCTGGAGGTTTTTAGAAA...</td>\n",
       "    </tr>\n",
       "    <tr>\n",
       "      <th>1</th>\n",
       "      <td>TATTGAGCCCTCAGAGAGTCCACAGTCCCTCCTCTCAGTTCAGTCT...</td>\n",
       "    </tr>\n",
       "    <tr>\n",
       "      <th>2</th>\n",
       "      <td>TATTCATTCCAACTGCTGCCCCTCTGTCTGCCTGGCTGAGATGCAT...</td>\n",
       "    </tr>\n",
       "    <tr>\n",
       "      <th>3</th>\n",
       "      <td>AACGGTGCGTTTGGCCAAAAAGAATCTGCATTTAGCACAAAAAAAA...</td>\n",
       "    </tr>\n",
       "    <tr>\n",
       "      <th>4</th>\n",
       "      <td>TAGTTTCTAACTGTCGGACCCGTCTGTAAACCAAGGACTATGAATA...</td>\n",
       "    </tr>\n",
       "    <tr>\n",
       "      <th>...</th>\n",
       "      <td>...</td>\n",
       "    </tr>\n",
       "    <tr>\n",
       "      <th>1809</th>\n",
       "      <td>AGCAAGCATTGAAAATAATAGTTATTGCATACCAATCCTTGTTTGC...</td>\n",
       "    </tr>\n",
       "    <tr>\n",
       "      <th>1810</th>\n",
       "      <td>AGCAAGCATTGAAAATAATAGTTATTGCATACCAATCCTTGTTTGC...</td>\n",
       "    </tr>\n",
       "    <tr>\n",
       "      <th>1811</th>\n",
       "      <td>GCCTACTTCATCTCAGGACCCGCCCAAGAGTGGCCGCGGCTTTGGG...</td>\n",
       "    </tr>\n",
       "    <tr>\n",
       "      <th>1812</th>\n",
       "      <td>TTGTCAGTCTGTCTGCTCAGGACACAAGAACTAAGGGGCAACAAAT...</td>\n",
       "    </tr>\n",
       "    <tr>\n",
       "      <th>1813</th>\n",
       "      <td>CTTTATAGTGGCACAAACGCTTCAGAGACACACAATTATAAGAGAC...</td>\n",
       "    </tr>\n",
       "  </tbody>\n",
       "</table>\n",
       "<p>1814 rows × 1 columns</p>\n",
       "</div>"
      ],
      "text/plain": [
       "                                                  3-UTR\n",
       "0     CCCCCAGAACCAGTGGGACAAACTGCCTCCTGGAGGTTTTTAGAAA...\n",
       "1     TATTGAGCCCTCAGAGAGTCCACAGTCCCTCCTCTCAGTTCAGTCT...\n",
       "2     TATTCATTCCAACTGCTGCCCCTCTGTCTGCCTGGCTGAGATGCAT...\n",
       "3     AACGGTGCGTTTGGCCAAAAAGAATCTGCATTTAGCACAAAAAAAA...\n",
       "4     TAGTTTCTAACTGTCGGACCCGTCTGTAAACCAAGGACTATGAATA...\n",
       "...                                                 ...\n",
       "1809  AGCAAGCATTGAAAATAATAGTTATTGCATACCAATCCTTGTTTGC...\n",
       "1810  AGCAAGCATTGAAAATAATAGTTATTGCATACCAATCCTTGTTTGC...\n",
       "1811  GCCTACTTCATCTCAGGACCCGCCCAAGAGTGGCCGCGGCTTTGGG...\n",
       "1812  TTGTCAGTCTGTCTGCTCAGGACACAAGAACTAAGGGGCAACAAAT...\n",
       "1813  CTTTATAGTGGCACAAACGCTTCAGAGACACACAATTATAAGAGAC...\n",
       "\n",
       "[1814 rows x 1 columns]"
      ]
     },
     "execution_count": 4,
     "metadata": {},
     "output_type": "execute_result"
    }
   ],
   "source": [
    "# load the test data if it exists\n",
    "file_path = 'test_df.pickle'\n",
    "if os.path.exists(file_path):\n",
    "    with open(file_path, 'rb') as f:\n",
    "        test_df = pickle.load(f)\n",
    "else:\n",
    "    # load the fasta file and select the train data\n",
    "    fasta_file = \"../../../test/Homo_sapiens_3prime_UTR.fa\"\n",
    "    sequences = []\n",
    "    for s in SeqIO.parse(fasta_file, \"fasta\"):\n",
    "        sequences.append(str(s.seq).upper())\n",
    "    # get the train fraction\n",
    "    val_fraction = 0.1\n",
    "    N_train = int(len(sequences)*(1-val_fraction))\n",
    "    test_data = sequences[N_train:]\n",
    "    # store it as a dataframe\n",
    "    test_df = pd.DataFrame({'3-UTR':test_data})\n",
    "    with open(file_path, 'wb') as f:\n",
    "        pickle.dump(test_df, f)\n",
    "test_df"
   ]
  },
  {
   "cell_type": "code",
   "execution_count": 3,
   "metadata": {},
   "outputs": [
    {
     "name": "stdout",
     "output_type": "stream",
     "text": [
      "{'fixed_length': 5, 'exclude_random': [('A1CF', 'AATTA', 0), ('BOLL', 'TTTTT', 1), ('CELF1', 'TATGT', 2), ('CNOT4', 'ACACA', 3), ('DAZAP1', 'ATATA', 4), ('EIF4G2', 'GTTGC', 5), ('ESRP1', 'GGGGG', 6), ('FUBP3', 'TATAT', 7), ('HNRNPA0', 'TATAG', 8), ('HNRNPD', 'TATTA', 9), ('HNRNPDL', 'TAATT', 10), ('HNRNPK', 'GCCCA', 11), ('KHDRBS2', 'ATAAA', 12), ('KHSRP', 'TGTAT', 13), ('MBNL1', 'CGCTT', 14), ('MSI1', 'TAGTT', 15), ('NOVA1', 'TTCAT', 16), ('NUPL2', 'AAAAA', 17), ('PCBP1', 'GCCCC', 18), ('PCBP2', 'CCCCC', 19), ('PCBP4', 'ATCCC', 20), ('PRR3', 'ATAAG', 21), ('PTBP3', 'TTTCT', 22), ('RBFOX2', 'GCATG', 23), ('RBM22', 'ACCGG', 24), ('RBM24', 'GTGTG', 25), ('RBM4', 'GCGCG', 26), ('RBM41', 'TACTT', 27), ('RBM45', 'ACGCA', 28), ('RBM47', 'AATCA', 29), ('RBM6', 'CGTCC', 30), ('RC3H1', 'ATATT', 31), ('SF1', 'TAACA', 32), ('SFPQ', 'TGTAA', 33), ('SNRPA', 'TGCAC', 34), ('SRSF10', 'AGCAG', 35), ('SRSF11', 'AGGGG', 36), ('SRSF8', 'GCAGC', 37), ('SRSF9', 'AGGAG', 38), ('TARDBP', 'GTATG', 39), ('TRA2A', 'GAAGA', 40), ('UNK', 'TTAGT', 41), ('ZCRB1', 'TTAAT', 42), ('ZFP36', 'TATTT', 43), ('ZNF326', 'GGATG', 44), ('CELF1', 'TTTGT', 45), ('CNOT4', 'ACAGA', 46), ('CPEB1', 'TTTTA', 47), ('EIF4G2', 'GCGAG', 48), ('ELAVL4', 'TTATT', 49), ('ESRP1', 'GGTGG', 50), ('HNRNPA0', 'ATTAG', 51), ('HNRNPC', 'ATTTT', 52), ('HNRNPDL', 'TAATA', 53), ('HNRNPK', 'CACGC', 54), ('HNRNPL', 'ACATA', 55), ('IGF2BP1', 'ATACA', 56), ('IGF2BP2', 'CAACA', 57), ('KHDRBS2', 'TTAAA', 58), ('KHSRP', 'TGTTT', 59), ('MBNL1', 'GCTGC', 60), ('NUPL2', 'AAAAG', 61), ('PABPN1L', 'AAAAT', 62), ('PCBP2', 'CCCCA', 63), ('PCBP4', 'TTCCC', 64), ('PTBP3', 'TCTTT', 65), ('RALY', 'TTCTT', 66), ('RBFOX2', 'GCACG', 67), ('RBM22', 'TCCGG', 68), ('RBM23', 'CCTCC', 69), ('RBM24', 'GTGTT', 70), ('RBM25', 'GGGGC', 71), ('RBM4', 'GCGCA', 72), ('RBM41', 'TACAT', 73), ('RBM4B', 'CGCGG', 74), ('RBM6', 'GTCCC', 75), ('RC3H1', 'TTATA', 76), ('SF1', 'TAACC', 77), ('SFPQ', 'GTAAG', 78), ('SNRPA', 'GCACA', 79), ('SRSF8', 'GCAGT', 80), ('SRSF9', 'AGGAA', 81), ('TRA2A', 'AAGAA', 82), ('ZCRB1', 'ATTAA', 83), ('ZNF326', 'GATCG', 84), ('CELF1', 'TGTGT', 85), ('DAZAP1', 'TATAA', 86), ('EIF4G2', 'CGCCG', 87), ('ESRP1', 'GGGGT', 88), ('EWSR1', 'GGGTG', 89), ('FUBP3', 'TTTAT', 90), ('HNRNPA0', 'TTTAG', 91), ('HNRNPA2B1', 'GGGTA', 92), ('HNRNPDL', 'TAAAT', 93), ('HNRNPF', 'TGGGG', 94), ('IGF2BP1', 'CATCA', 95), ('KHDRBS3', 'TAAAA', 96), ('MBNL1', 'CGCGC', 97), ('PRR3', 'ATGAG', 98), ('PTBP3', 'CTATC', 99), ('PUF60', 'TCTCT', 100), ('PUM1', 'TGTAC', 101), ('RBM22', 'TACCG', 102), ('RBM4', 'GCGTA', 103), ('RBM41', 'TACGT', 104), ('RBM47', 'ATAAT', 105), ('RBM4B', 'GCGGG', 106), ('RBM6', 'TCCAC', 107), ('SFPQ', 'TAGTG', 108), ('SNRPA', 'AGCAC', 109), ('SRSF10', 'CAGCA', 110), ('SRSF11', 'AGGGA', 111), ('SRSF2', 'TGCAG', 112), ('SRSF5', 'GCGCC', 113), ('TARDBP', 'GAATG', 114), ('TRNAU1AP', 'ATTTA', 115), ('ZCRB1', 'TTTAA', 116), ('ZNF326', 'CGGAC', 117), ('CELF1', 'TGTCT', 118), ('CNOT4', 'ACAGT', 119), ('DAZAP1', 'ATAGT', 120), ('EIF4G2', 'GGTCG', 121), ('EWSR1', 'AGGTG', 122), ('FUBP3', 'ATTAT', 123), ('HNRNPF', 'GGGAG', 124), ('MBNL1', 'TGCTT', 125), ('RALY', 'CTTTT', 126), ('RBM4', 'GCGTG', 127), ('RBM47', 'AAATT', 128), ('SFPQ', 'GTAAT', 129), ('SNRPA', 'CGCAC', 130), ('SRSF11', 'AGAGG', 131), ('SRSF2', 'TCCAG', 132), ('SRSF9', 'TGGAG', 133), ('TARDBP', 'GAGTG', 134), ('ZCRB1', 'CTTAA', 135), ('ZNF326', 'ATTCC', 136), ('CNOT4', 'CACAG', 137), ('HNRNPF', 'AGGGT', 138), ('PTBP3', 'CTTCT', 139), ('RBM4', 'CGCGT', 140), ('RBM6', 'ATCCA', 141), ('SFPQ', 'AGTAA', 142), ('SRSF9', 'GGGAA', 143), ('ZNF326', 'GGACG', 144), ('CNOT4', 'ACAGC', 145), ('MBNL1', 'CGCTA', 146), ('PTBP3', 'TCTAT', 147), ('RBM25', 'GGGGA', 148), ('RBM4', 'GCGCT', 149), ('RBM6', 'CCACC', 150), ('ZNF326', 'GGGAC', 151), ('RBM4', 'TGCGT', 152), ('SRSF8', 'GCCGC', 153)]}\n"
     ]
    }
   ],
   "source": [
    "sequences = list(test_df[\"3-UTR\"])\n",
    "with open(\"../../data/exclude_motifs.pickle\", \"rb\") as f:\n",
    "    config = pickle.load(f)\n",
    "print(config)\n"
   ]
  },
  {
   "attachments": {},
   "cell_type": "markdown",
   "metadata": {},
   "source": [
    "# kmer \n",
    "* Exactly the same in both files\n",
    "* Test with pseudocount = 0"
   ]
  },
  {
   "cell_type": "code",
   "execution_count": 5,
   "metadata": {},
   "outputs": [
    {
     "name": "stderr",
     "output_type": "stream",
     "text": [
      "100%|██████████| 16320/16320 [06:20<00:00, 42.84it/s] \n"
     ]
    }
   ],
   "source": [
    "# training here refers to calculating the 11mer frequencies\n",
    "pseudocount = 0\n",
    "file_path = f'kmer_train_pseudocount_{pseudocount}.pickle'\n",
    "if os.path.exists(file_path):\n",
    "    with open(file_path, 'rb') as f:\n",
    "        kmer_train = pickle.load(f)\n",
    "else: \n",
    "    # get the frequency counts of all motifs till 11mer\n",
    "    kmer_train = mm.KmerCount(11,pseudocount=pseudocount)\n",
    "    kmer_train.compute_counts(train_df['3-UTR'])\n",
    "    kmer_train.kmer_counts_dict\n",
    "\n",
    "    # save dictionary pickle file\n",
    "    with open('kmer_train_pseudocount_{pseudocount}.pickle', 'wb') as f:\n",
    "        pickle.dump(kmer_train, f)"
   ]
  },
  {
   "cell_type": "code",
   "execution_count": 6,
   "metadata": {},
   "outputs": [],
   "source": [
    "# kmer_train.max_k"
   ]
  },
  {
   "cell_type": "code",
   "execution_count": 7,
   "metadata": {},
   "outputs": [],
   "source": [
    "# kmer_train.kmer_counts_dict"
   ]
  },
  {
   "attachments": {},
   "cell_type": "markdown",
   "metadata": {},
   "source": [
    "# Original Markcov Model\n",
    "Test bidirectional markov model with order 5 and pseudocount 0"
   ]
  },
  {
   "cell_type": "code",
   "execution_count": 8,
   "metadata": {},
   "outputs": [],
   "source": [
    "# at the current state I don't have a markov matrix and can therefore not make a MarkovModel object\n",
    "# therefore generate the markov matrix with BiMarkov\n",
    "bimarkov = mm_orig.BiMarkov(kmer_train)"
   ]
  },
  {
   "cell_type": "code",
   "execution_count": 9,
   "metadata": {},
   "outputs": [
    {
     "name": "stderr",
     "output_type": "stream",
     "text": [
      "/home/lukas/Projects/ML4RG-2023-project/notebooks/markov_models/../../models/baseline/markov_model_orig.py:149: RuntimeWarning: invalid value encountered in divide\n",
      "  self.markov_matrix[order,:,:] = self.markov_matrix[order,:,:]/np.sum(self.markov_matrix[order,:,:],axis=1)[:,np.newaxis]\n"
     ]
    }
   ],
   "source": [
    "bimarkov.compile_from_counts()"
   ]
  },
  {
   "cell_type": "code",
   "execution_count": 10,
   "metadata": {},
   "outputs": [],
   "source": [
    "# bimarkov.markov_matrix"
   ]
  },
  {
   "cell_type": "code",
   "execution_count": 13,
   "metadata": {},
   "outputs": [],
   "source": [
    "bimarkov.serialize('markov_model.npy')"
   ]
  },
  {
   "cell_type": "code",
   "execution_count": 14,
   "metadata": {},
   "outputs": [],
   "source": [
    "del bimarkov, train_df"
   ]
  },
  {
   "cell_type": "code",
   "execution_count": 15,
   "metadata": {},
   "outputs": [],
   "source": [
    "# initialize a bidirectional markov model of order 5\n",
    "markov_model = mm_orig.MarkovModel(\n",
    "    halflife_df = test_df,\n",
    "    markov_matrix_path = 'markov_model.npy',\n",
    "    order = 5,\n",
    "    bidirectional = True\n",
    ")"
   ]
  },
  {
   "cell_type": "code",
   "execution_count": 17,
   "metadata": {},
   "outputs": [],
   "source": [
    "file_path = 'order_5_original/'"
   ]
  },
  {
   "cell_type": "code",
   "execution_count": 18,
   "metadata": {},
   "outputs": [],
   "source": [
    "markov_model.test(file_path)"
   ]
  },
  {
   "attachments": {},
   "cell_type": "markdown",
   "metadata": {},
   "source": [
    "# My code"
   ]
  },
  {
   "cell_type": "code",
   "execution_count": 26,
   "metadata": {},
   "outputs": [
    {
     "name": "stdout",
     "output_type": "stream",
     "text": [
      "<models.baseline.markov_model.KmerCount object at 0x7faffc8d9ca0>\n"
     ]
    }
   ],
   "source": []
  },
  {
   "cell_type": "code",
   "execution_count": 24,
   "metadata": {},
   "outputs": [],
   "source": [
    "# initialize a bidirectional markov model of order 5\n",
    "markov_model = mm.MarkovModel(\n",
    "    kmer_train,\n",
    "    order=5,\n",
    "    bidirectional=True,\n",
    "    test_df_path='test_df.pickle',\n",
    "    path='order_5/'\n",
    ")"
   ]
  },
  {
   "cell_type": "code",
   "execution_count": 28,
   "metadata": {},
   "outputs": [
    {
     "name": "stderr",
     "output_type": "stream",
     "text": [
      "/home/lukas/Projects/ML4RG-2023-project/notebooks/markov_models/../../models/baseline/markov_model.py:152: RuntimeWarning: invalid value encountered in divide\n",
      "  self.markov_matrix[order,:,:] = self.markov_matrix[order,:,:]/np.sum(self.markov_matrix[order,:,:],axis=1)[:,np.newaxis]\n"
     ]
    }
   ],
   "source": [
    "markov_model.model.compile_from_counts()"
   ]
  },
  {
   "cell_type": "code",
   "execution_count": 29,
   "metadata": {},
   "outputs": [],
   "source": [
    "markov_model.test()"
   ]
  }
 ],
 "metadata": {
  "kernelspec": {
   "display_name": "Python 3.9.16 ('ML4RG-mlm')",
   "language": "python",
   "name": "python3"
  },
  "language_info": {
   "codemirror_mode": {
    "name": "ipython",
    "version": 3
   },
   "file_extension": ".py",
   "mimetype": "text/x-python",
   "name": "python",
   "nbconvert_exporter": "python",
   "pygments_lexer": "ipython3",
   "version": "3.9.16"
  },
  "orig_nbformat": 4,
  "vscode": {
   "interpreter": {
    "hash": "7231443d2c6613b194813e6f98d913231f722dc8bb3ac4a1397dcf3c267e4542"
   }
  }
 },
 "nbformat": 4,
 "nbformat_minor": 2
}
