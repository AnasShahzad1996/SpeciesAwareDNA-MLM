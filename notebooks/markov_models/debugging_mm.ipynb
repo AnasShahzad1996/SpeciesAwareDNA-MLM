{
 "cells": [
  {
   "attachments": {},
   "cell_type": "markdown",
   "metadata": {},
   "source": [
    "# Debugging markov_model"
   ]
  },
  {
   "attachments": {},
   "cell_type": "markdown",
   "metadata": {},
   "source": [
    "# Imports"
   ]
  },
  {
   "cell_type": "code",
   "execution_count": 1,
   "metadata": {},
   "outputs": [
    {
     "name": "stderr",
     "output_type": "stream",
     "text": [
      "Matplotlib is building the font cache; this may take a moment.\n"
     ]
    }
   ],
   "source": [
    "%load_ext autoreload\n",
    "%autoreload 2\n",
    "\n",
    "import sys, os\n",
    "sys.path.insert(0, '../../')\n",
    "\n",
    "import gc\n",
    "import pysam\n",
    "import pandas as pd\n",
    "import re\n",
    "import torch\n",
    "from torch.utils.data import DataLoader, Dataset\n",
    "import matplotlib.pyplot as plt\n",
    "import numpy as np\n",
    "\n",
    "\n",
    "import helpers.train_eval as train_eval    #train and evaluation\n",
    "import helpers.misc as misc                #miscellaneous functions\n",
    "\n",
    "import encoding_utils.sequence_encoders as sequence_encoders\n",
    "import encoding_utils.sequence_utils as sequence_utils\n",
    "from models.spec_dss import DSSResNet, DSSResNetEmb, SpecAdd\n",
    "import models.baseline.markov_model as mm\n",
    "import models.baseline.markov_model_orig as mm_orig\n",
    "\n",
    "from Bio import SeqIO\n",
    "import pickle"
   ]
  },
  {
   "attachments": {},
   "cell_type": "markdown",
   "metadata": {},
   "source": [
    "# Data"
   ]
  },
  {
   "cell_type": "code",
   "execution_count": 12,
   "metadata": {},
   "outputs": [
    {
     "data": {
      "text/html": [
       "<div>\n",
       "<style scoped>\n",
       "    .dataframe tbody tr th:only-of-type {\n",
       "        vertical-align: middle;\n",
       "    }\n",
       "\n",
       "    .dataframe tbody tr th {\n",
       "        vertical-align: top;\n",
       "    }\n",
       "\n",
       "    .dataframe thead th {\n",
       "        text-align: right;\n",
       "    }\n",
       "</style>\n",
       "<table border=\"1\" class=\"dataframe\">\n",
       "  <thead>\n",
       "    <tr style=\"text-align: right;\">\n",
       "      <th></th>\n",
       "      <th>3-UTR</th>\n",
       "    </tr>\n",
       "  </thead>\n",
       "  <tbody>\n",
       "    <tr>\n",
       "      <th>0</th>\n",
       "      <td>ATCTTATATAACTGTGAGATTAATCTCAGATAATGACACAAAATAT...</td>\n",
       "    </tr>\n",
       "    <tr>\n",
       "      <th>1</th>\n",
       "      <td>GGTTGCCGGGGGTAGGGGTGGGGCCACACAAATCTCCAGGAGCCAC...</td>\n",
       "    </tr>\n",
       "    <tr>\n",
       "      <th>2</th>\n",
       "      <td>GGCAGCCCATCTGGGGGGCCTGTAGGGGCTGCCGGGCTGGTGGCCA...</td>\n",
       "    </tr>\n",
       "    <tr>\n",
       "      <th>3</th>\n",
       "      <td>CCCACCTACCACCAGAGGCCTGCAGCCTCCCACATGCCTTAAGGGG...</td>\n",
       "    </tr>\n",
       "    <tr>\n",
       "      <th>4</th>\n",
       "      <td>TGGCCGCGGTGAGGTGGGTTCTCAGGACCACCCTCGCCAAGCTCCA...</td>\n",
       "    </tr>\n",
       "    <tr>\n",
       "      <th>...</th>\n",
       "      <td>...</td>\n",
       "    </tr>\n",
       "    <tr>\n",
       "      <th>16315</th>\n",
       "      <td>CCGTATGAAGATGTCCTGTTAAATTTACAACACTAACGATGTAGAC...</td>\n",
       "    </tr>\n",
       "    <tr>\n",
       "      <th>16316</th>\n",
       "      <td>ACACACCCCCGAAAAACACAAGACCGACCCAAAATCTAGAGGAAAG...</td>\n",
       "    </tr>\n",
       "    <tr>\n",
       "      <th>16317</th>\n",
       "      <td>AGAAGCTAAAAGGAAAGAAAATAAATCTATCAAAATTACCCTAAAC...</td>\n",
       "    </tr>\n",
       "    <tr>\n",
       "      <th>16318</th>\n",
       "      <td>CTTCACTTTTGGGCTCAAGGACTGTGTGAACCAACAAGGGGCCAGT...</td>\n",
       "    </tr>\n",
       "    <tr>\n",
       "      <th>16319</th>\n",
       "      <td>TAGACAATGAGCTGCGAAAAGACTCCTGGTTCCCCTGTTGATTTGT...</td>\n",
       "    </tr>\n",
       "  </tbody>\n",
       "</table>\n",
       "<p>16320 rows × 1 columns</p>\n",
       "</div>"
      ],
      "text/plain": [
       "                                                   3-UTR\n",
       "0      ATCTTATATAACTGTGAGATTAATCTCAGATAATGACACAAAATAT...\n",
       "1      GGTTGCCGGGGGTAGGGGTGGGGCCACACAAATCTCCAGGAGCCAC...\n",
       "2      GGCAGCCCATCTGGGGGGCCTGTAGGGGCTGCCGGGCTGGTGGCCA...\n",
       "3      CCCACCTACCACCAGAGGCCTGCAGCCTCCCACATGCCTTAAGGGG...\n",
       "4      TGGCCGCGGTGAGGTGGGTTCTCAGGACCACCCTCGCCAAGCTCCA...\n",
       "...                                                  ...\n",
       "16315  CCGTATGAAGATGTCCTGTTAAATTTACAACACTAACGATGTAGAC...\n",
       "16316  ACACACCCCCGAAAAACACAAGACCGACCCAAAATCTAGAGGAAAG...\n",
       "16317  AGAAGCTAAAAGGAAAGAAAATAAATCTATCAAAATTACCCTAAAC...\n",
       "16318  CTTCACTTTTGGGCTCAAGGACTGTGTGAACCAACAAGGGGCCAGT...\n",
       "16319  TAGACAATGAGCTGCGAAAAGACTCCTGGTTCCCCTGTTGATTTGT...\n",
       "\n",
       "[16320 rows x 1 columns]"
      ]
     },
     "execution_count": 12,
     "metadata": {},
     "output_type": "execute_result"
    }
   ],
   "source": [
    "# # load the train data if it exists\n",
    "# file_path = 'train_df.pickle'\n",
    "# if os.path.exists(file_path):\n",
    "#     with open(file_path, 'rb') as f:\n",
    "#         train_df = pickle.load(f)\n",
    "# else:\n",
    "#     # load the fasta file and select the train data\n",
    "#     fasta_file = \"../../Homo_sapiens_3prime_UTR.fa\"\n",
    "#     sequences = []\n",
    "#     for s in SeqIO.parse(fasta_file, \"fasta\"):\n",
    "#         sequences.append(str(s.seq).upper())\n",
    "#     # get the train fraction\n",
    "#     val_fraction = 0.1\n",
    "#     N_train = int(len(sequences)*(1-val_fraction))\n",
    "#     train_data = sequences[:N_train]\n",
    "#     # store it as a dataframe\n",
    "#     train_df = pd.DataFrame({'3-UTR':train_data})\n",
    "#     with open(file_path, 'wb') as f:\n",
    "#         pickle.dump(train_df, f)\n",
    "# train_df"
   ]
  },
  {
   "cell_type": "code",
   "execution_count": 2,
   "metadata": {},
   "outputs": [
    {
     "data": {
      "text/html": [
       "<div>\n",
       "<style scoped>\n",
       "    .dataframe tbody tr th:only-of-type {\n",
       "        vertical-align: middle;\n",
       "    }\n",
       "\n",
       "    .dataframe tbody tr th {\n",
       "        vertical-align: top;\n",
       "    }\n",
       "\n",
       "    .dataframe thead th {\n",
       "        text-align: right;\n",
       "    }\n",
       "</style>\n",
       "<table border=\"1\" class=\"dataframe\">\n",
       "  <thead>\n",
       "    <tr style=\"text-align: right;\">\n",
       "      <th></th>\n",
       "      <th>3-UTR</th>\n",
       "    </tr>\n",
       "  </thead>\n",
       "  <tbody>\n",
       "    <tr>\n",
       "      <th>0</th>\n",
       "      <td>CCCCCAGAACCAGTGGGACAAACTGCCTCCTGGAGGTTTTTAGAAA...</td>\n",
       "    </tr>\n",
       "    <tr>\n",
       "      <th>1</th>\n",
       "      <td>TATTGAGCCCTCAGAGAGTCCACAGTCCCTCCTCTCAGTTCAGTCT...</td>\n",
       "    </tr>\n",
       "    <tr>\n",
       "      <th>2</th>\n",
       "      <td>TATTCATTCCAACTGCTGCCCCTCTGTCTGCCTGGCTGAGATGCAT...</td>\n",
       "    </tr>\n",
       "    <tr>\n",
       "      <th>3</th>\n",
       "      <td>AACGGTGCGTTTGGCCAAAAAGAATCTGCATTTAGCACAAAAAAAA...</td>\n",
       "    </tr>\n",
       "    <tr>\n",
       "      <th>4</th>\n",
       "      <td>TAGTTTCTAACTGTCGGACCCGTCTGTAAACCAAGGACTATGAATA...</td>\n",
       "    </tr>\n",
       "    <tr>\n",
       "      <th>...</th>\n",
       "      <td>...</td>\n",
       "    </tr>\n",
       "    <tr>\n",
       "      <th>1809</th>\n",
       "      <td>AGCAAGCATTGAAAATAATAGTTATTGCATACCAATCCTTGTTTGC...</td>\n",
       "    </tr>\n",
       "    <tr>\n",
       "      <th>1810</th>\n",
       "      <td>AGCAAGCATTGAAAATAATAGTTATTGCATACCAATCCTTGTTTGC...</td>\n",
       "    </tr>\n",
       "    <tr>\n",
       "      <th>1811</th>\n",
       "      <td>GCCTACTTCATCTCAGGACCCGCCCAAGAGTGGCCGCGGCTTTGGG...</td>\n",
       "    </tr>\n",
       "    <tr>\n",
       "      <th>1812</th>\n",
       "      <td>TTGTCAGTCTGTCTGCTCAGGACACAAGAACTAAGGGGCAACAAAT...</td>\n",
       "    </tr>\n",
       "    <tr>\n",
       "      <th>1813</th>\n",
       "      <td>CTTTATAGTGGCACAAACGCTTCAGAGACACACAATTATAAGAGAC...</td>\n",
       "    </tr>\n",
       "  </tbody>\n",
       "</table>\n",
       "<p>1814 rows × 1 columns</p>\n",
       "</div>"
      ],
      "text/plain": [
       "                                                  3-UTR\n",
       "0     CCCCCAGAACCAGTGGGACAAACTGCCTCCTGGAGGTTTTTAGAAA...\n",
       "1     TATTGAGCCCTCAGAGAGTCCACAGTCCCTCCTCTCAGTTCAGTCT...\n",
       "2     TATTCATTCCAACTGCTGCCCCTCTGTCTGCCTGGCTGAGATGCAT...\n",
       "3     AACGGTGCGTTTGGCCAAAAAGAATCTGCATTTAGCACAAAAAAAA...\n",
       "4     TAGTTTCTAACTGTCGGACCCGTCTGTAAACCAAGGACTATGAATA...\n",
       "...                                                 ...\n",
       "1809  AGCAAGCATTGAAAATAATAGTTATTGCATACCAATCCTTGTTTGC...\n",
       "1810  AGCAAGCATTGAAAATAATAGTTATTGCATACCAATCCTTGTTTGC...\n",
       "1811  GCCTACTTCATCTCAGGACCCGCCCAAGAGTGGCCGCGGCTTTGGG...\n",
       "1812  TTGTCAGTCTGTCTGCTCAGGACACAAGAACTAAGGGGCAACAAAT...\n",
       "1813  CTTTATAGTGGCACAAACGCTTCAGAGACACACAATTATAAGAGAC...\n",
       "\n",
       "[1814 rows x 1 columns]"
      ]
     },
     "execution_count": 2,
     "metadata": {},
     "output_type": "execute_result"
    }
   ],
   "source": [
    "# load the test data if it exists\n",
    "file_path = 'test_df.pickle'\n",
    "if os.path.exists(file_path):\n",
    "    with open(file_path, 'rb') as f:\n",
    "        test_df = pickle.load(f)\n",
    "else:\n",
    "    # load the fasta file and select the train data\n",
    "    fasta_file = \"../../Homo_sapiens_3prime_UTR.fa\"\n",
    "    sequences = []\n",
    "    for s in SeqIO.parse(fasta_file, \"fasta\"):\n",
    "        sequences.append(str(s.seq).upper())\n",
    "    # get the train fraction\n",
    "    val_fraction = 0.1\n",
    "    N_train = int(len(sequences)*(1-val_fraction))\n",
    "    test_data = sequences[N_train:]\n",
    "    # store it as a dataframe\n",
    "    test_df = pd.DataFrame({'3-UTR':test_data})\n",
    "    with open(file_path, 'wb') as f:\n",
    "        pickle.dump(test_df, f)\n",
    "test_df"
   ]
  },
  {
   "cell_type": "code",
   "execution_count": 3,
   "metadata": {},
   "outputs": [
    {
     "name": "stdout",
     "output_type": "stream",
     "text": [
      "{'fixed_length': 5, 'exclude_random': [('A1CF', 'AATTA', 0), ('BOLL', 'TTTTT', 1), ('CELF1', 'TATGT', 2), ('CNOT4', 'ACACA', 3), ('DAZAP1', 'ATATA', 4), ('EIF4G2', 'GTTGC', 5), ('ESRP1', 'GGGGG', 6), ('FUBP3', 'TATAT', 7), ('HNRNPA0', 'TATAG', 8), ('HNRNPD', 'TATTA', 9), ('HNRNPDL', 'TAATT', 10), ('HNRNPK', 'GCCCA', 11), ('KHDRBS2', 'ATAAA', 12), ('KHSRP', 'TGTAT', 13), ('MBNL1', 'CGCTT', 14), ('MSI1', 'TAGTT', 15), ('NOVA1', 'TTCAT', 16), ('NUPL2', 'AAAAA', 17), ('PCBP1', 'GCCCC', 18), ('PCBP2', 'CCCCC', 19), ('PCBP4', 'ATCCC', 20), ('PRR3', 'ATAAG', 21), ('PTBP3', 'TTTCT', 22), ('RBFOX2', 'GCATG', 23), ('RBM22', 'ACCGG', 24), ('RBM24', 'GTGTG', 25), ('RBM4', 'GCGCG', 26), ('RBM41', 'TACTT', 27), ('RBM45', 'ACGCA', 28), ('RBM47', 'AATCA', 29), ('RBM6', 'CGTCC', 30), ('RC3H1', 'ATATT', 31), ('SF1', 'TAACA', 32), ('SFPQ', 'TGTAA', 33), ('SNRPA', 'TGCAC', 34), ('SRSF10', 'AGCAG', 35), ('SRSF11', 'AGGGG', 36), ('SRSF8', 'GCAGC', 37), ('SRSF9', 'AGGAG', 38), ('TARDBP', 'GTATG', 39), ('TRA2A', 'GAAGA', 40), ('UNK', 'TTAGT', 41), ('ZCRB1', 'TTAAT', 42), ('ZFP36', 'TATTT', 43), ('ZNF326', 'GGATG', 44), ('CELF1', 'TTTGT', 45), ('CNOT4', 'ACAGA', 46), ('CPEB1', 'TTTTA', 47), ('EIF4G2', 'GCGAG', 48), ('ELAVL4', 'TTATT', 49), ('ESRP1', 'GGTGG', 50), ('HNRNPA0', 'ATTAG', 51), ('HNRNPC', 'ATTTT', 52), ('HNRNPDL', 'TAATA', 53), ('HNRNPK', 'CACGC', 54), ('HNRNPL', 'ACATA', 55), ('IGF2BP1', 'ATACA', 56), ('IGF2BP2', 'CAACA', 57), ('KHDRBS2', 'TTAAA', 58), ('KHSRP', 'TGTTT', 59), ('MBNL1', 'GCTGC', 60), ('NUPL2', 'AAAAG', 61), ('PABPN1L', 'AAAAT', 62), ('PCBP2', 'CCCCA', 63), ('PCBP4', 'TTCCC', 64), ('PTBP3', 'TCTTT', 65), ('RALY', 'TTCTT', 66), ('RBFOX2', 'GCACG', 67), ('RBM22', 'TCCGG', 68), ('RBM23', 'CCTCC', 69), ('RBM24', 'GTGTT', 70), ('RBM25', 'GGGGC', 71), ('RBM4', 'GCGCA', 72), ('RBM41', 'TACAT', 73), ('RBM4B', 'CGCGG', 74), ('RBM6', 'GTCCC', 75), ('RC3H1', 'TTATA', 76), ('SF1', 'TAACC', 77), ('SFPQ', 'GTAAG', 78), ('SNRPA', 'GCACA', 79), ('SRSF8', 'GCAGT', 80), ('SRSF9', 'AGGAA', 81), ('TRA2A', 'AAGAA', 82), ('ZCRB1', 'ATTAA', 83), ('ZNF326', 'GATCG', 84), ('CELF1', 'TGTGT', 85), ('DAZAP1', 'TATAA', 86), ('EIF4G2', 'CGCCG', 87), ('ESRP1', 'GGGGT', 88), ('EWSR1', 'GGGTG', 89), ('FUBP3', 'TTTAT', 90), ('HNRNPA0', 'TTTAG', 91), ('HNRNPA2B1', 'GGGTA', 92), ('HNRNPDL', 'TAAAT', 93), ('HNRNPF', 'TGGGG', 94), ('IGF2BP1', 'CATCA', 95), ('KHDRBS3', 'TAAAA', 96), ('MBNL1', 'CGCGC', 97), ('PRR3', 'ATGAG', 98), ('PTBP3', 'CTATC', 99), ('PUF60', 'TCTCT', 100), ('PUM1', 'TGTAC', 101), ('RBM22', 'TACCG', 102), ('RBM4', 'GCGTA', 103), ('RBM41', 'TACGT', 104), ('RBM47', 'ATAAT', 105), ('RBM4B', 'GCGGG', 106), ('RBM6', 'TCCAC', 107), ('SFPQ', 'TAGTG', 108), ('SNRPA', 'AGCAC', 109), ('SRSF10', 'CAGCA', 110), ('SRSF11', 'AGGGA', 111), ('SRSF2', 'TGCAG', 112), ('SRSF5', 'GCGCC', 113), ('TARDBP', 'GAATG', 114), ('TRNAU1AP', 'ATTTA', 115), ('ZCRB1', 'TTTAA', 116), ('ZNF326', 'CGGAC', 117), ('CELF1', 'TGTCT', 118), ('CNOT4', 'ACAGT', 119), ('DAZAP1', 'ATAGT', 120), ('EIF4G2', 'GGTCG', 121), ('EWSR1', 'AGGTG', 122), ('FUBP3', 'ATTAT', 123), ('HNRNPF', 'GGGAG', 124), ('MBNL1', 'TGCTT', 125), ('RALY', 'CTTTT', 126), ('RBM4', 'GCGTG', 127), ('RBM47', 'AAATT', 128), ('SFPQ', 'GTAAT', 129), ('SNRPA', 'CGCAC', 130), ('SRSF11', 'AGAGG', 131), ('SRSF2', 'TCCAG', 132), ('SRSF9', 'TGGAG', 133), ('TARDBP', 'GAGTG', 134), ('ZCRB1', 'CTTAA', 135), ('ZNF326', 'ATTCC', 136), ('CNOT4', 'CACAG', 137), ('HNRNPF', 'AGGGT', 138), ('PTBP3', 'CTTCT', 139), ('RBM4', 'CGCGT', 140), ('RBM6', 'ATCCA', 141), ('SFPQ', 'AGTAA', 142), ('SRSF9', 'GGGAA', 143), ('ZNF326', 'GGACG', 144), ('CNOT4', 'ACAGC', 145), ('MBNL1', 'CGCTA', 146), ('PTBP3', 'TCTAT', 147), ('RBM25', 'GGGGA', 148), ('RBM4', 'GCGCT', 149), ('RBM6', 'CCACC', 150), ('ZNF326', 'GGGAC', 151), ('RBM4', 'TGCGT', 152), ('SRSF8', 'GCCGC', 153)]}\n"
     ]
    }
   ],
   "source": [
    "sequences = list(test_df[\"3-UTR\"])\n",
    "with open(\"../../data/exclude_motifs.pickle\", \"rb\") as f:\n",
    "    config = pickle.load(f)\n",
    "print(config)\n"
   ]
  },
  {
   "attachments": {},
   "cell_type": "markdown",
   "metadata": {},
   "source": [
    "# kmer \n",
    "* Exactly the same in both files\n",
    "* Test with pseudocount = 0"
   ]
  },
  {
   "cell_type": "code",
   "execution_count": 15,
   "metadata": {},
   "outputs": [],
   "source": [
    "# # training here refers to calculating the 11mer frequencies\n",
    "# pseudocount = 0\n",
    "# file_path = f'kmer_train_pseudocount_{pseudocount}.pickle'\n",
    "# if os.path.exists(file_path):\n",
    "#     with open(file_path, 'rb') as f:\n",
    "#         kmer_train = pickle.load(f)\n",
    "# else: \n",
    "#     # get the frequency counts of all motifs till 11mer\n",
    "#     kmer_train = mm.KmerCount(11,pseudocount=pseudocount)\n",
    "#     kmer_train.compute_counts(train_df['3-UTR'])\n",
    "#     kmer_train.kmer_counts_dict\n",
    "\n",
    "#     # save dictionary pickle file\n",
    "#     with open('kmer_train_pseudocount_{pseudocount}.pickle', 'wb') as f:\n",
    "#         pickle.dump(kmer_train, f)"
   ]
  },
  {
   "cell_type": "code",
   "execution_count": 16,
   "metadata": {},
   "outputs": [
    {
     "data": {
      "text/plain": [
       "11"
      ]
     },
     "execution_count": 16,
     "metadata": {},
     "output_type": "execute_result"
    }
   ],
   "source": [
    "# kmer_train.max_k"
   ]
  },
  {
   "cell_type": "code",
   "execution_count": 17,
   "metadata": {},
   "outputs": [
    {
     "data": {
      "text/plain": [
       "{0: array([0.]),\n",
       " 1: array([8157095., 6189764., 6274556., 8841209.]),\n",
       " 2: array([2642571., 1409099., 2004685., 2087206., 2009700., 1712355.,\n",
       "         338176., 2128409., 1681668., 1347883., 1649212., 1594906.,\n",
       "        1818484., 1716864., 2277171., 3027915.]),\n",
       " 3: array([1027296.,  390734.,  553286.,  664790.,  514728.,  347294.,\n",
       "          80915.,  466033.,  587208.,  423662.,  519958.,  473737.,\n",
       "         522403.,  346091.,  515909.,  702705.,  470463.,  423143.,\n",
       "         614224.,  499039.,  543442.,  482336.,  103335.,  583008.,\n",
       "          67580.,   81987.,   96154.,   92422.,  338932.,  496520.,\n",
       "         667411.,  625424.,  551267.,  282855.,  479979.,  365720.,\n",
       "         419852.,  406596.,   80568.,  440615.,  462973.,  378970.,\n",
       "         456020.,  351014.,  343211.,  293355.,  487294.,  470934.,\n",
       "         592164.,  311500.,  355693.,  556736.,  530657.,  474829.,\n",
       "          73023.,  637847.,  562701.,  461707.,  575318.,  676946.,\n",
       "         613433.,  580342.,  605556., 1228142.]),\n",
       " 4: array([402260., 149971., 196751., 275059., 149420.,  90513.,  18868.,\n",
       "        131902., 171962., 108077., 130952., 142260., 191855., 102719.,\n",
       "        165732., 204450., 129437., 103217., 144151., 137393., 115079.,\n",
       "         94525.,  17712., 119943.,  16065.,  18318.,  20849.,  25675.,\n",
       "         82830.,  93967., 138911., 150299., 202141., 101013., 154122.,\n",
       "        129496., 137973., 128927.,  21367., 135351., 155945., 124895.,\n",
       "        129414., 109644., 106734.,  85759., 139684., 141533., 172335.,\n",
       "         84877.,  91159., 173513., 113376.,  87058.,  15112., 130506.,\n",
       "        135326.,  96218., 119452., 164818., 152347., 122514., 124989.,\n",
       "        302815., 177513.,  77077., 117324.,  97518., 144782., 115550.,\n",
       "         30666., 132108., 160211., 147022., 167499., 139458.,  99783.,\n",
       "        100365., 130468., 168404., 120277., 122781., 178619., 120983.,\n",
       "        165728., 132082.,  36857., 147632.,  20565.,  27572.,  29601.,\n",
       "         25591.,  79040., 155820., 191574., 156541.,  16368.,  11606.,\n",
       "         24975.,  14524.,  18992.,  31964.,   8587.,  22429.,  19982.,\n",
       "         24599.,  34027.,  17530.,  14100.,  19792.,  35775.,  22747.,\n",
       "        103534.,  69257.,  75518.,  90063., 146811., 154676.,  26745.,\n",
       "        168143., 151302., 152524., 180314., 183145., 110965., 143571.,\n",
       "        140784., 230015., 203965.,  81441., 134900., 129897.,  99863.,\n",
       "         72597.,  17995.,  92368., 144955.,  95320., 141388.,  98282.,\n",
       "         78892.,  64440., 105874., 116496.,  97539.,  84404., 138266.,\n",
       "         99000., 124942., 111268.,  27256., 143033.,  15497.,  19392.,\n",
       "         24659.,  21008.,  69770.,  94403., 155644., 120762., 147785.,\n",
       "         75067., 147875.,  91786., 116322., 108418.,  29238., 124897.,\n",
       "        136755., 102725., 121851.,  94607.,  64326.,  68143., 118655.,\n",
       "         99848., 106376.,  55538.,  76724., 104068.,  92860.,  76276.,\n",
       "         12983., 111080., 122780.,  94072., 131612., 138649.,  90418.,\n",
       "         89136., 100990., 190225., 243115.,  81986., 103953., 161995.,\n",
       "        120375.,  68389.,  13312., 109395., 109606.,  72864.,  79692.,\n",
       "         93514., 151673.,  78396., 113516., 213124., 123019., 112491.,\n",
       "        152813., 141459., 137336., 143986.,  21357., 172085.,  15410.,\n",
       "         16587.,  20921.,  20099., 107174., 152117., 180908., 197621.,\n",
       "        184611.,  94898., 152611., 129737., 146219., 136591.,  21187.,\n",
       "        157613., 149866., 126187., 170152., 129036., 157946., 119461.,\n",
       "        192851., 206653., 209748., 101745., 112182., 188951., 177463.,\n",
       "        156634.,  18148., 227929., 153035., 118678., 143612., 190135.,\n",
       "        259566., 224947., 238620., 504861.]),\n",
       " 5: array([170438.,  55314.,  67005., ...,  85640.,  88936., 218015.]),\n",
       " 6: array([ 86550.,  18323.,  24116., ...,  31160.,  32434., 108244.]),\n",
       " 7: array([56163.,  6150.,  9652., ..., 12473., 12662., 67074.]),\n",
       " 8: array([40623.,  2964.,  5436., ...,  6655.,  6161., 46953.]),\n",
       " 9: array([31712.,  1652.,  3540., ...,  3306.,  3582., 36204.]),\n",
       " 10: array([25345.,  1181.,  2834., ...,  2115.,  2655., 28889.]),\n",
       " 11: array([20549.,   887.,  2345., ...,  1312.,  2249., 23492.])}"
      ]
     },
     "execution_count": 17,
     "metadata": {},
     "output_type": "execute_result"
    }
   ],
   "source": [
    "# kmer_train.kmer_counts_dict"
   ]
  },
  {
   "attachments": {},
   "cell_type": "markdown",
   "metadata": {},
   "source": [
    "# Original Markcov Model\n",
    "Test bidirectional markov model with order 5 and pseudocount 0"
   ]
  },
  {
   "cell_type": "code",
   "execution_count": 9,
   "metadata": {},
   "outputs": [],
   "source": [
    "# at the current state I don't have a markov matrix and can therefore not make a MarkovModel object\n",
    "# therefore generate the markov matrix with BiMarkov\n",
    "# bimarkov = mm_orig.BiMarkov(kmer_train)"
   ]
  },
  {
   "cell_type": "code",
   "execution_count": 18,
   "metadata": {},
   "outputs": [
    {
     "name": "stderr",
     "output_type": "stream",
     "text": [
      "/mnt/c/Users/nicol/OneDrive/Documents/TUM/ml4regmlm/project/ML4RG-2023-project/notebooks/markov_models/../../models/baseline/markov_model_orig.py:149: RuntimeWarning: invalid value encountered in divide\n",
      "  self.markov_matrix[order,:,:] = self.markov_matrix[order,:,:]/np.sum(self.markov_matrix[order,:,:],axis=1)[:,np.newaxis]\n"
     ]
    }
   ],
   "source": [
    "# bimarkov.compile_from_counts()"
   ]
  },
  {
   "cell_type": "code",
   "execution_count": 19,
   "metadata": {},
   "outputs": [
    {
     "data": {
      "text/plain": [
       "array([[[0.27686247, 0.21008869, 0.21296664, 0.3000822 ],\n",
       "        [0.        , 0.        , 0.        , 0.        ],\n",
       "        [0.        , 0.        , 0.        , 0.        ],\n",
       "        ...,\n",
       "        [0.        , 0.        , 0.        , 0.        ],\n",
       "        [0.        , 0.        , 0.        , 0.        ],\n",
       "        [0.        , 0.        , 0.        , 0.        ]],\n",
       "\n",
       "       [[0.38741984, 0.19411721, 0.22145129, 0.19701166],\n",
       "        [0.25914506, 0.23033451, 0.28098378, 0.22953665],\n",
       "        [0.33129549, 0.04845012, 0.31133942, 0.30891497],\n",
       "        ...,\n",
       "        [       nan,        nan,        nan,        nan],\n",
       "        [       nan,        nan,        nan,        nan],\n",
       "        [       nan,        nan,        nan,        nan]],\n",
       "\n",
       "       [[0.48548706, 0.12552056, 0.18282317, 0.20616921],\n",
       "        [0.39142342, 0.18918728, 0.20455719, 0.21483211],\n",
       "        [0.38661266, 0.20732432, 0.23276384, 0.17329918],\n",
       "        ...,\n",
       "        [       nan,        nan,        nan,        nan],\n",
       "        [       nan,        nan,        nan,        nan],\n",
       "        [       nan,        nan,        nan,        nan]],\n",
       "\n",
       "       [[0.59003425, 0.10247305, 0.13044986, 0.17704284],\n",
       "        [0.3977236 , 0.17001875, 0.20688094, 0.22537671],\n",
       "        [0.43160578, 0.15208156, 0.21311989, 0.20319277],\n",
       "        ...,\n",
       "        [       nan,        nan,        nan,        nan],\n",
       "        [       nan,        nan,        nan,        nan],\n",
       "        [       nan,        nan,        nan,        nan]],\n",
       "\n",
       "       [[0.77792224, 0.06748436, 0.07450018, 0.08009322],\n",
       "        [0.41897033, 0.20213036, 0.16890692, 0.20999239],\n",
       "        [0.57281553, 0.09902913, 0.15080906, 0.17734628],\n",
       "        ...,\n",
       "        [       nan,        nan,        nan,        nan],\n",
       "        [       nan,        nan,        nan,        nan],\n",
       "        [       nan,        nan,        nan,        nan]],\n",
       "\n",
       "       [[0.88906676, 0.03422316, 0.04240038, 0.0343097 ],\n",
       "        [0.56895446, 0.20654266, 0.10391276, 0.12059012],\n",
       "        [0.78192731, 0.036012  , 0.10836946, 0.07369123],\n",
       "        ...,\n",
       "        [0.09419931, 0.16658404, 0.08874566, 0.650471  ],\n",
       "        [0.0755418 , 0.074613  , 0.15356037, 0.69628483],\n",
       "        [0.03390463, 0.04350099, 0.04540532, 0.87718905]]])"
      ]
     },
     "execution_count": 19,
     "metadata": {},
     "output_type": "execute_result"
    }
   ],
   "source": [
    "# bimarkov.markov_matrix"
   ]
  },
  {
   "cell_type": "code",
   "execution_count": 20,
   "metadata": {},
   "outputs": [],
   "source": [
    "# bimarkov.serialize('markov_model.npy')"
   ]
  },
  {
   "cell_type": "code",
   "execution_count": 21,
   "metadata": {},
   "outputs": [],
   "source": [
    "# del bimarkov"
   ]
  },
  {
   "cell_type": "code",
   "execution_count": 4,
   "metadata": {},
   "outputs": [
    {
     "ename": "",
     "evalue": "",
     "output_type": "error",
     "traceback": [
      "\u001b[1;31mCannot execute code, session has been disposed. Please try restarting the Kernel."
     ]
    },
    {
     "ename": "",
     "evalue": "",
     "output_type": "error",
     "traceback": [
      "\u001b[1;31mThe Kernel crashed while executing code in the the current cell or a previous cell. Please review the code in the cell(s) to identify a possible cause of the failure. Click <a href='https://aka.ms/vscodeJupyterKernelCrash'>here</a> for more info. View Jupyter <a href='command:jupyter.viewOutput'>log</a> for further details."
     ]
    }
   ],
   "source": [
    "# initialize a bidirectional markov model of order 5\n",
    "markov_model = mm_orig.MarkovModel(\n",
    "    halflife_df = test_df,\n",
    "    markov_matrix_path = 'markov_model.npy',\n",
    "    order = 5,\n",
    "    bidirectional = True\n",
    ")"
   ]
  },
  {
   "cell_type": "code",
   "execution_count": null,
   "metadata": {},
   "outputs": [
    {
     "name": "stderr",
     "output_type": "stream",
     "text": [
      "/home/lukas/Projects/ML4RG-2023-project/results/11mer/../../models/baseline/markov_model.py:154: RuntimeWarning: invalid value encountered in divide\n",
      "  self.markov_matrix[order,:,:] = self.markov_matrix[order,:,:]/np.sum(self.markov_matrix[order,:,:],axis=1)[:,np.newaxis]\n"
     ]
    }
   ],
   "source": [
    "# calculate the markov matrix using the 11mer counts\n",
    "markov_model.model.compile_from_counts()"
   ]
  },
  {
   "cell_type": "code",
   "execution_count": null,
   "metadata": {},
   "outputs": [],
   "source": [
    "# generate the result files needed for plotting using the test data\n",
    "markov_model.test()"
   ]
  },
  {
   "cell_type": "code",
   "execution_count": null,
   "metadata": {},
   "outputs": [],
   "source": []
  }
 ],
 "metadata": {
  "kernelspec": {
   "display_name": "Python 3.9.16 ('ML4RG-mlm')",
   "language": "python",
   "name": "python3"
  },
  "language_info": {
   "codemirror_mode": {
    "name": "ipython",
    "version": 3
   },
   "file_extension": ".py",
   "mimetype": "text/x-python",
   "name": "python",
   "nbconvert_exporter": "python",
   "pygments_lexer": "ipython3",
   "version": "3.9.16"
  },
  "orig_nbformat": 4,
  "vscode": {
   "interpreter": {
    "hash": "7231443d2c6613b194813e6f98d913231f722dc8bb3ac4a1397dcf3c267e4542"
   }
  }
 },
 "nbformat": 4,
 "nbformat_minor": 2
}
