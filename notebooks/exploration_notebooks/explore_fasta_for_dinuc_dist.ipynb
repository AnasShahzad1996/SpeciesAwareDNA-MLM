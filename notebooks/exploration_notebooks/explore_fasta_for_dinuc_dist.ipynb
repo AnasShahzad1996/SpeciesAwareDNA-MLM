{
 "cells": [
  {
   "cell_type": "code",
   "execution_count": 1,
   "metadata": {},
   "outputs": [],
   "source": [
    "from Bio import SeqIO"
   ]
  },
  {
   "cell_type": "code",
   "execution_count": 2,
   "metadata": {},
   "outputs": [
    {
     "name": "stdout",
     "output_type": "stream",
     "text": [
      "A: 5919083\n",
      "C: 4863209\n",
      "T: 6414380\n",
      "G: 4935864\n"
     ]
    }
   ],
   "source": [
    "count_nucletides = dict([(i,0) for i in \"ACTG\"])\n",
    "for record in SeqIO.parse(r'C:\\Users\\anna_\\OneDrive\\Документы\\Homo_sapiens_3prime_UTR.fa', 'fasta'):\n",
    "    for nucleotide in count_nucletides:\n",
    "        count_nucletides[nucleotide] += record.seq.count(nucleotide)\n",
    "print('\\n'.join(['{}: {}'.format(i,count_nucletides[i]) for i in count_nucletides]))"
   ]
  },
  {
   "cell_type": "code",
   "execution_count": 3,
   "metadata": {},
   "outputs": [],
   "source": [
    "s = sum(count_nucletides.values())"
   ]
  },
  {
   "cell_type": "code",
   "execution_count": 4,
   "metadata": {},
   "outputs": [],
   "source": [
    "a = {k: v / s for k, v in count_nucletides.items()}"
   ]
  },
  {
   "cell_type": "code",
   "execution_count": 5,
   "metadata": {},
   "outputs": [
    {
     "data": {
      "text/plain": [
       "{'A': 0.26743808301046024,\n",
       " 'C': 0.21973121381119634,\n",
       " 'T': 0.2898167656883061,\n",
       " 'G': 0.22301393749003728}"
      ]
     },
     "execution_count": 5,
     "metadata": {},
     "output_type": "execute_result"
    }
   ],
   "source": [
    "a"
   ]
  },
  {
   "cell_type": "code",
   "execution_count": 6,
   "metadata": {},
   "outputs": [],
   "source": [
    "t = sum(a.values())"
   ]
  },
  {
   "cell_type": "code",
   "execution_count": 7,
   "metadata": {},
   "outputs": [
    {
     "data": {
      "text/plain": [
       "1.0"
      ]
     },
     "execution_count": 7,
     "metadata": {},
     "output_type": "execute_result"
    }
   ],
   "source": [
    "t"
   ]
  },
  {
   "cell_type": "code",
   "execution_count": 11,
   "metadata": {},
   "outputs": [],
   "source": [
    "dinucl = [\"AA\", \"AC\", \"AT\", \"AG\", \"CA\", \"CC\", \"CT\", \"CG\", \"TA\", \"TC\", \"TT\", \"TG\", \"GA\", \"GC\", \"GG\", \"GT\"]"
   ]
  },
  {
   "cell_type": "code",
   "execution_count": 12,
   "metadata": {},
   "outputs": [],
   "source": [
    "count_dinuc = dict((el, 0) for el in dinucl)"
   ]
  },
  {
   "cell_type": "code",
   "execution_count": 13,
   "metadata": {},
   "outputs": [
    {
     "name": "stdout",
     "output_type": "stream",
     "text": [
      "AA: 1304392\n",
      "AC: 1086128\n",
      "AT: 1480312\n",
      "AG: 1560013\n",
      "CA: 1548303\n",
      "CC: 1053661\n",
      "CT: 1659864\n",
      "CG: 267845\n",
      "TA: 1287498\n",
      "TC: 1318239\n",
      "TT: 1481015\n",
      "TG: 1767961\n",
      "GA: 1297216\n",
      "GC: 1066844\n",
      "GG: 1016481\n",
      "GT: 1232045\n"
     ]
    }
   ],
   "source": [
    "for record in SeqIO.parse(r'C:\\Users\\anna_\\OneDrive\\Документы\\Homo_sapiens_3prime_UTR.fa', 'fasta'):\n",
    "    for nucleotide in count_dinuc:\n",
    "        count_dinuc[nucleotide] += record.seq.count(nucleotide)\n",
    "print('\\n'.join(['{}: {}'.format(i,count_dinuc[i]) for i in count_dinuc]))"
   ]
  },
  {
   "cell_type": "code",
   "execution_count": 14,
   "metadata": {},
   "outputs": [],
   "source": [
    "s_di = sum(count_dinuc.values())"
   ]
  },
  {
   "cell_type": "code",
   "execution_count": 15,
   "metadata": {},
   "outputs": [],
   "source": [
    "a2 = {k: v / s for k, v in count_dinuc.items()}"
   ]
  },
  {
   "cell_type": "code",
   "execution_count": 16,
   "metadata": {},
   "outputs": [
    {
     "data": {
      "text/plain": [
       "{'AA': 0.058935496591985666,\n",
       " 'AC': 0.049073816032649854,\n",
       " 'AT': 0.0668839756998475,\n",
       " 'AG': 0.07048505422062795,\n",
       " 'CA': 0.06995596889574697,\n",
       " 'CC': 0.047606880657508024,\n",
       " 'CT': 0.07499655710488848,\n",
       " 'CG': 0.012101866681703353,\n",
       " 'TA': 0.058172185961879834,\n",
       " 'TC': 0.059561136599981135,\n",
       " 'TT': 0.06691573889228057,\n",
       " 'TG': 0.07988063365174239,\n",
       " 'GA': 0.058611268044475334,\n",
       " 'GC': 0.048202519584741664,\n",
       " 'GG': 0.045927000864248,\n",
       " 'GT': 0.05566668907711254}"
      ]
     },
     "execution_count": 16,
     "metadata": {},
     "output_type": "execute_result"
    }
   ],
   "source": [
    "a2"
   ]
  },
  {
   "cell_type": "code",
   "execution_count": 17,
   "metadata": {},
   "outputs": [],
   "source": [
    "s_a = sum(count_dinuc[key] for key in count_dinuc.keys() if key.startswith('A'))"
   ]
  },
  {
   "cell_type": "code",
   "execution_count": 18,
   "metadata": {},
   "outputs": [
    {
     "data": {
      "text/plain": [
       "5430845"
      ]
     },
     "execution_count": 18,
     "metadata": {},
     "output_type": "execute_result"
    }
   ],
   "source": [
    "s_a"
   ]
  },
  {
   "cell_type": "code",
   "execution_count": 22,
   "metadata": {},
   "outputs": [],
   "source": [
    "a_a = {k: v / s_a for k, v in count_dinuc.items() if k.startswith('A')}"
   ]
  },
  {
   "cell_type": "code",
   "execution_count": 23,
   "metadata": {},
   "outputs": [
    {
     "data": {
      "text/plain": [
       "{'AA': 0.24018214476752697,\n",
       " 'AC': 0.1999924505302582,\n",
       " 'AT': 0.2725748939621735,\n",
       " 'AG': 0.2872505107400414}"
      ]
     },
     "execution_count": 23,
     "metadata": {},
     "output_type": "execute_result"
    }
   ],
   "source": [
    "a_a"
   ]
  },
  {
   "cell_type": "code",
   "execution_count": 24,
   "metadata": {},
   "outputs": [],
   "source": [
    "s_c = sum(count_dinuc[key] for key in count_dinuc.keys() if key.startswith('C'))\n",
    "a_c = {k: v / s_c for k, v in count_dinuc.items() if k.startswith('C')}"
   ]
  },
  {
   "cell_type": "code",
   "execution_count": 26,
   "metadata": {},
   "outputs": [
    {
     "data": {
      "text/plain": [
       "{'CA': 0.3418134156704027,\n",
       " 'CC': 0.2326130385129346,\n",
       " 'CT': 0.3664423458382095,\n",
       " 'CG': 0.05913119997845319}"
      ]
     },
     "execution_count": 26,
     "metadata": {},
     "output_type": "execute_result"
    }
   ],
   "source": [
    "a_c"
   ]
  },
  {
   "cell_type": "code",
   "execution_count": 27,
   "metadata": {},
   "outputs": [],
   "source": [
    "s_g = sum(count_dinuc[key] for key in count_dinuc.keys() if key.startswith('G'))\n",
    "a_g = {k: v / s_g for k, v in count_dinuc.items() if k.startswith('G')}"
   ]
  },
  {
   "cell_type": "code",
   "execution_count": 29,
   "metadata": {},
   "outputs": [],
   "source": [
    "s_t = sum(count_dinuc[key] for key in count_dinuc.keys() if key.startswith('T'))\n",
    "a_t = {k: v / s_t for k, v in count_dinuc.items() if k.startswith('T')}"
   ]
  },
  {
   "cell_type": "code",
   "execution_count": 30,
   "metadata": {},
   "outputs": [
    {
     "data": {
      "text/plain": [
       "{'TA': 0.219907961329616,\n",
       " 'TC': 0.2251586029921535,\n",
       " 'TT': 0.2529611613754594,\n",
       " 'TG': 0.3019722743027711}"
      ]
     },
     "execution_count": 30,
     "metadata": {},
     "output_type": "execute_result"
    }
   ],
   "source": [
    "a_t"
   ]
  },
  {
   "cell_type": "code",
   "execution_count": 28,
   "metadata": {},
   "outputs": [
    {
     "data": {
      "text/plain": [
       "{'GA': 0.28123399758833767,\n",
       " 'GC': 0.23128977974611206,\n",
       " 'GG': 0.22037117573526,\n",
       " 'GT': 0.2671050469302903}"
      ]
     },
     "execution_count": 28,
     "metadata": {},
     "output_type": "execute_result"
    }
   ],
   "source": [
    "a_g"
   ]
  }
 ],
 "metadata": {
  "kernelspec": {
   "display_name": "Python 3",
   "language": "python",
   "name": "python3"
  },
  "language_info": {
   "codemirror_mode": {
    "name": "ipython",
    "version": 3
   },
   "file_extension": ".py",
   "mimetype": "text/x-python",
   "name": "python",
   "nbconvert_exporter": "python",
   "pygments_lexer": "ipython3",
   "version": "3.8.10"
  },
  "orig_nbformat": 4
 },
 "nbformat": 4,
 "nbformat_minor": 2
}
