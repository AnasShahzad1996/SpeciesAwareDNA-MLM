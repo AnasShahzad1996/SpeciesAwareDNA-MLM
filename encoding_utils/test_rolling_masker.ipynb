{
 "cells": [
  {
   "cell_type": "code",
   "execution_count": 5,
   "metadata": {},
   "outputs": [],
   "source": [
    "import sys\n",
    "sys.path.insert(0, '..')\n",
    "\n",
    "from sequence_encoders import RollingMasker"
   ]
  },
  {
   "cell_type": "code",
   "execution_count": 70,
   "metadata": {},
   "outputs": [],
   "source": [
    "sequence = \"AATGTGTGT\"\n",
    "motif = {'ATG':1,\n",
    "         'TGT':2}"
   ]
  },
  {
   "cell_type": "code",
   "execution_count": 71,
   "metadata": {},
   "outputs": [],
   "source": [
    "masker = RollingMasker(mask_stride=3)\n",
    "x_batch, y_masked_batch, y_batch, mask_batch, motif_mask_batch = masker(sequence, motif)"
   ]
  },
  {
   "cell_type": "code",
   "execution_count": 72,
   "metadata": {},
   "outputs": [
    {
     "name": "stdout",
     "output_type": "stream",
     "text": [
      "['A', 'A', 'T', 'G', 'T', 'G', 'T', 'G', 'T']\n"
     ]
    },
    {
     "data": {
      "text/plain": [
       "tensor([[0., 1., 0., 0., 0., 0., 0., 0., 0.],\n",
       "        [0., 0., 0., 0., 0., 0., 0., 0., 0.],\n",
       "        [0., 0., 0., 0., 0., 1., 0., 1., 0.],\n",
       "        [0., 0., 1., 0., 1., 0., 0., 0., 1.],\n",
       "        [0., 0., 0., 0., 0., 0., 0., 0., 0.]])"
      ]
     },
     "execution_count": 72,
     "metadata": {},
     "output_type": "execute_result"
    }
   ],
   "source": [
    "print([*sequence])\n",
    "x_batch[0]"
   ]
  },
  {
   "cell_type": "code",
   "execution_count": 73,
   "metadata": {},
   "outputs": [
    {
     "data": {
      "text/plain": [
       "tensor([[0., 1., 2., 2., 2., 0., 2., 2., 2.],\n",
       "        [0., 1., 2., 2., 2., 0., 2., 2., 2.],\n",
       "        [0., 1., 2., 2., 2., 0., 2., 2., 2.]], dtype=torch.float64)"
      ]
     },
     "execution_count": 73,
     "metadata": {},
     "output_type": "execute_result"
    }
   ],
   "source": [
    "motif_mask_batch"
   ]
  },
  {
   "cell_type": "code",
   "execution_count": 60,
   "metadata": {},
   "outputs": [
    {
     "name": "stdout",
     "output_type": "stream",
     "text": [
      "['T', 'A', 'T', 'G', 'T', 'A', 'C', 'C', 'N', 'N']\n"
     ]
    },
    {
     "data": {
      "text/plain": [
       "tensor([[   3, -100, -100,    2, -100, -100,    1, -100, -100,    4],\n",
       "        [-100,    0, -100, -100,    3, -100, -100,    1, -100, -100],\n",
       "        [-100, -100,    3, -100, -100,    0, -100, -100,    4, -100]])"
      ]
     },
     "execution_count": 60,
     "metadata": {},
     "output_type": "execute_result"
    }
   ],
   "source": [
    "print([*sequence])\n",
    "y_masked_batch"
   ]
  },
  {
   "cell_type": "code",
   "execution_count": 61,
   "metadata": {},
   "outputs": [
    {
     "data": {
      "text/plain": [
       "tensor([[3, 0, 3, 2, 3, 0, 1, 1, 4, 4],\n",
       "        [3, 0, 3, 2, 3, 0, 1, 1, 4, 4],\n",
       "        [3, 0, 3, 2, 3, 0, 1, 1, 4, 4]])"
      ]
     },
     "execution_count": 61,
     "metadata": {},
     "output_type": "execute_result"
    }
   ],
   "source": [
    "y_batch"
   ]
  },
  {
   "cell_type": "code",
   "execution_count": null,
   "metadata": {},
   "outputs": [],
   "source": []
  }
 ],
 "metadata": {
  "kernelspec": {
   "display_name": "ML4RG-mlm",
   "language": "python",
   "name": "python3"
  },
  "language_info": {
   "codemirror_mode": {
    "name": "ipython",
    "version": 3
   },
   "file_extension": ".py",
   "mimetype": "text/x-python",
   "name": "python",
   "nbconvert_exporter": "python",
   "pygments_lexer": "ipython3",
   "version": "3.9.16"
  },
  "orig_nbformat": 4
 },
 "nbformat": 4,
 "nbformat_minor": 2
}
