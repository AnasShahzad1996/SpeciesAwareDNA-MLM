{
 "cells": [
  {
   "cell_type": "code",
   "execution_count": 5,
   "metadata": {},
   "outputs": [],
   "source": [
    "import numpy as np"
   ]
  },
  {
   "cell_type": "code",
   "execution_count": 7,
   "metadata": {},
   "outputs": [
    {
     "data": {
      "text/plain": [
       "array([1.00000099e+00, 1.00000100e+00, 1.00000100e+00, 1.00000101e+00,\n",
       "       5.00000000e-06])"
      ]
     },
     "execution_count": 7,
     "metadata": {},
     "output_type": "execute_result"
    }
   ],
   "source": [
    "distribution = np.array([[0.28765218, 0.19895785, 0.21361906, 0.2997709 , 0.000001],\n",
    "                                        [0.29905175, 0.2213963 , 0.19460597, 0.28494598, 0.000001],\n",
    "                                        [0.29069304, 0.23104371, 0.22507592, 0.25318733, 0.000001],\n",
    "                                        [0.22499235, 0.22467443, 0.24042836, 0.30990487, 0.000001],\n",
    "                                        [0.000001, 0.000001, 0.000001, 0.000001, 0.000001]])\n",
    "distribution.sum(axis=1)"
   ]
  },
  {
   "cell_type": "code",
   "execution_count": 8,
   "metadata": {},
   "outputs": [
    {
     "data": {
      "text/plain": [
       "array([1.00000100e+00, 1.00000100e+00, 1.00000101e+00, 1.00000100e+00,\n",
       "       5.00000000e-06])"
      ]
     },
     "execution_count": 8,
     "metadata": {},
     "output_type": "execute_result"
    }
   ],
   "source": [
    "distribution = np.array([[0.34761327, 0.15365545, 0.1374561 , 0.36127518, 0.000001],\n",
    "                                        [0.35105206, 0.16913953, 0.13899755, 0.34081086, 0.000001],\n",
    "                                        [0.30504691, 0.19255757, 0.15608539, 0.34631014, 0.000001],\n",
    "                                        [0.32566986, 0.14829357, 0.1439468 , 0.38208977, 0.000001],\n",
    "                                        [0.000001, 0.000001, 0.000001, 0.000001, 0.000001]])\n",
    "distribution.sum(axis=1)"
   ]
  },
  {
   "cell_type": "code",
   "execution_count": 9,
   "metadata": {},
   "outputs": [
    {
     "data": {
      "text/plain": [
       "array([1.00000100e+00, 1.00000099e+00, 1.00000099e+00, 1.00000099e+00,\n",
       "       5.00000000e-06])"
      ]
     },
     "execution_count": 9,
     "metadata": {},
     "output_type": "execute_result"
    }
   ],
   "source": [
    "distribution = np.array([[0.35827077, 0.14834849, 0.13990124, 0.3534795, 0.000001],\n",
    "                                        [0.32813515, 0.16424929, 0.13672206, 0.37089349, 0.000001],\n",
    "                                        [0.31019399, 0.18893581, 0.16364807, 0.33722212, 0.000001],\n",
    "                                        [0.24572077, 0.15421273, 0.16014529, 0.4399212, 0.000001],\n",
    "                                        [0.000001, 0.000001, 0.000001, 0.000001, 0.000001]])\n",
    "distribution.sum(axis=1)"
   ]
  },
  {
   "cell_type": "code",
   "execution_count": 10,
   "metadata": {},
   "outputs": [
    {
     "data": {
      "text/plain": [
       "array([1.00000101e+00, 1.00000100e+00, 1.00000100e+00, 1.00000101e+00,\n",
       "       5.00000000e-06])"
      ]
     },
     "execution_count": 10,
     "metadata": {},
     "output_type": "execute_result"
    }
   ],
   "source": [
    "distribution = np.array([[0.27720314, 0.20685077, 0.24993863, 0.26600747, 0.000001],\n",
    "                                        [0.30233271, 0.21791942, 0.20990551, 0.26984236, 0.000001],\n",
    "                                        [0.28934538, 0.19029556, 0.28043999, 0.23991907, 0.000001],\n",
    "                                        [0.18967726, 0.21642376, 0.28722743, 0.30667156, 0.000001],\n",
    "                                        [0.000001, 0.000001, 0.000001, 0.000001, 0.000001]])\n",
    "distribution.sum(axis=1)"
   ]
  }
 ],
 "metadata": {
  "kernelspec": {
   "display_name": "Python 3",
   "language": "python",
   "name": "python3"
  },
  "language_info": {
   "codemirror_mode": {
    "name": "ipython",
    "version": 3
   },
   "file_extension": ".py",
   "mimetype": "text/x-python",
   "name": "python",
   "nbconvert_exporter": "python",
   "pygments_lexer": "ipython3",
   "version": "3.9.16"
  },
  "orig_nbformat": 4
 },
 "nbformat": 4,
 "nbformat_minor": 2
}
