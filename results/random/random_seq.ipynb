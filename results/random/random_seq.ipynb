{
 "cells": [
  {
   "cell_type": "code",
   "execution_count": 2,
   "id": "11912dfb",
   "metadata": {},
   "outputs": [],
   "source": [
    "import copy\n",
    "import sys        \n",
    "import os\n",
    "import pyranges as pr\n",
    "import pandas as pd\n",
    "import numpy as np\n",
    "import scipy.stats\n",
    "import pyreadr\n",
    "import pyBigWig\n",
    "import seaborn as sns\n",
    "import torch\n",
    "from sklearn.metrics import accuracy_score, roc_curve, roc_auc_score, precision_recall_curve, average_precision_score, f1_score\n",
    "import matplotlib.pyplot as plt\n",
    "import matplotlib\n",
    "from statannotations.Annotator import Annotator\n",
    "import openpyxl"
   ]
  },
  {
   "cell_type": "code",
   "execution_count": 4,
   "id": "42a799be",
   "metadata": {},
   "outputs": [
    {
     "name": "stdout",
     "output_type": "stream",
     "text": [
      "[('A1CF', 'AATTA', 0), ('BOLL', 'TTTTT', 1), ('CELF1', 'TATGT', 2), ('CNOT4', 'ACACA', 3), ('DAZAP1', 'ATATA', 4), ('EIF4G2', 'GTTGC', 5), ('ESRP1', 'GGGGG', 6), ('FUBP3', 'TATAT', 7), ('HNRNPA0', 'TATAG', 8), ('HNRNPD', 'TATTA', 9), ('HNRNPDL', 'TAATT', 10), ('HNRNPK', 'GCCCA', 11), ('KHDRBS2', 'ATAAA', 12), ('KHSRP', 'TGTAT', 13), ('MBNL1', 'CGCTT', 14), ('MSI1', 'TAGTT', 15), ('NOVA1', 'TTCAT', 16), ('NUPL2', 'AAAAA', 17), ('PCBP1', 'GCCCC', 18), ('PCBP2', 'CCCCC', 19), ('PCBP4', 'ATCCC', 20), ('PRR3', 'ATAAG', 21), ('PTBP3', 'TTTCT', 22), ('RBFOX2', 'GCATG', 23), ('RBM22', 'ACCGG', 24), ('RBM24', 'GTGTG', 25), ('RBM4', 'GCGCG', 26), ('RBM41', 'TACTT', 27), ('RBM45', 'ACGCA', 28), ('RBM47', 'AATCA', 29), ('RBM6', 'CGTCC', 30), ('RC3H1', 'ATATT', 31), ('SF1', 'TAACA', 32), ('SFPQ', 'TGTAA', 33), ('SNRPA', 'TGCAC', 34), ('SRSF10', 'AGCAG', 35), ('SRSF11', 'AGGGG', 36), ('SRSF8', 'GCAGC', 37), ('SRSF9', 'AGGAG', 38), ('TARDBP', 'GTATG', 39), ('TRA2A', 'GAAGA', 40), ('UNK', 'TTAGT', 41), ('ZCRB1', 'TTAAT', 42), ('ZFP36', 'TATTT', 43), ('ZNF326', 'GGATG', 44), ('CELF1', 'TTTGT', 45), ('CNOT4', 'ACAGA', 46), ('CPEB1', 'TTTTA', 47), ('EIF4G2', 'GCGAG', 48), ('ELAVL4', 'TTATT', 49), ('ESRP1', 'GGTGG', 50), ('HNRNPA0', 'ATTAG', 51), ('HNRNPC', 'ATTTT', 52), ('HNRNPDL', 'TAATA', 53), ('HNRNPK', 'CACGC', 54), ('HNRNPL', 'ACATA', 55), ('IGF2BP1', 'ATACA', 56), ('IGF2BP2', 'CAACA', 57), ('KHDRBS2', 'TTAAA', 58), ('KHSRP', 'TGTTT', 59), ('MBNL1', 'GCTGC', 60), ('NUPL2', 'AAAAG', 61), ('PABPN1L', 'AAAAT', 62), ('PCBP2', 'CCCCA', 63), ('PCBP4', 'TTCCC', 64), ('PTBP3', 'TCTTT', 65), ('RALY', 'TTCTT', 66), ('RBFOX2', 'GCACG', 67), ('RBM22', 'TCCGG', 68), ('RBM23', 'CCTCC', 69), ('RBM24', 'GTGTT', 70), ('RBM25', 'GGGGC', 71), ('RBM4', 'GCGCA', 72), ('RBM41', 'TACAT', 73), ('RBM4B', 'CGCGG', 74), ('RBM6', 'GTCCC', 75), ('RC3H1', 'TTATA', 76), ('SF1', 'TAACC', 77), ('SFPQ', 'GTAAG', 78), ('SNRPA', 'GCACA', 79), ('SRSF8', 'GCAGT', 80), ('SRSF9', 'AGGAA', 81), ('TRA2A', 'AAGAA', 82), ('ZCRB1', 'ATTAA', 83), ('ZNF326', 'GATCG', 84), ('CELF1', 'TGTGT', 85), ('DAZAP1', 'TATAA', 86), ('EIF4G2', 'CGCCG', 87), ('ESRP1', 'GGGGT', 88), ('EWSR1', 'GGGTG', 89), ('FUBP3', 'TTTAT', 90), ('HNRNPA0', 'TTTAG', 91), ('HNRNPA2B1', 'GGGTA', 92), ('HNRNPDL', 'TAAAT', 93), ('HNRNPF', 'TGGGG', 94), ('IGF2BP1', 'CATCA', 95), ('KHDRBS3', 'TAAAA', 96), ('MBNL1', 'CGCGC', 97), ('PRR3', 'ATGAG', 98), ('PTBP3', 'CTATC', 99), ('PUF60', 'TCTCT', 100), ('PUM1', 'TGTAC', 101), ('RBM22', 'TACCG', 102), ('RBM4', 'GCGTA', 103), ('RBM41', 'TACGT', 104), ('RBM47', 'ATAAT', 105), ('RBM4B', 'GCGGG', 106), ('RBM6', 'TCCAC', 107), ('SFPQ', 'TAGTG', 108), ('SNRPA', 'AGCAC', 109), ('SRSF10', 'CAGCA', 110), ('SRSF11', 'AGGGA', 111), ('SRSF2', 'TGCAG', 112), ('SRSF5', 'GCGCC', 113), ('TARDBP', 'GAATG', 114), ('TRNAU1AP', 'ATTTA', 115), ('ZCRB1', 'TTTAA', 116), ('ZNF326', 'CGGAC', 117), ('CELF1', 'TGTCT', 118), ('CNOT4', 'ACAGT', 119), ('DAZAP1', 'ATAGT', 120), ('EIF4G2', 'GGTCG', 121), ('EWSR1', 'AGGTG', 122), ('FUBP3', 'ATTAT', 123), ('HNRNPF', 'GGGAG', 124), ('MBNL1', 'TGCTT', 125), ('RALY', 'CTTTT', 126), ('RBM4', 'GCGTG', 127), ('RBM47', 'AAATT', 128), ('SFPQ', 'GTAAT', 129), ('SNRPA', 'CGCAC', 130), ('SRSF11', 'AGAGG', 131), ('SRSF2', 'TCCAG', 132), ('SRSF9', 'TGGAG', 133), ('TARDBP', 'GAGTG', 134), ('ZCRB1', 'CTTAA', 135), ('ZNF326', 'ATTCC', 136), ('CNOT4', 'CACAG', 137), ('HNRNPF', 'AGGGT', 138), ('PTBP3', 'CTTCT', 139), ('RBM4', 'CGCGT', 140), ('RBM6', 'ATCCA', 141), ('SFPQ', 'AGTAA', 142), ('SRSF9', 'GGGAA', 143), ('ZNF326', 'GGACG', 144), ('CNOT4', 'ACAGC', 145), ('MBNL1', 'CGCTA', 146), ('PTBP3', 'TCTAT', 147), ('RBM25', 'GGGGA', 148), ('RBM4', 'GCGCT', 149), ('RBM6', 'CCACC', 150), ('ZNF326', 'GGGAC', 151), ('RBM4', 'TGCGT', 152), ('SRSF8', 'GCCGC', 153)]\n",
      "78\n",
      "Strong motifs with stepwise R-1 above 0.1: 153\n"
     ]
    }
   ],
   "source": [
    "### Finding all the \n",
    "\n",
    "xlsx_file_path = \"../../data/1-s2.0-S1097276518303514-mmc4.xlsx\"\n",
    "\n",
    "\n",
    "\n",
    "def find_index(element, my_list):\n",
    "    return next((index for index, value in enumerate(my_list) if value == element), -1)\n",
    "\n",
    "\n",
    "# Load the XLSX file\n",
    "workbook = openpyxl.load_workbook(xlsx_file_path)\n",
    "sheet = workbook['logo_5mers.prop_in_logo']  # Replace \"Sheet1\" with the actual sheet name\n",
    "data = []\n",
    "for row in sheet.iter_rows(values_only=True):\n",
    "    data.append(row)\n",
    "\n",
    "strong_motifs = []\n",
    "seq_only = []\n",
    "motif_tup = []\n",
    "r1_val = []\n",
    "protein_name = []\n",
    "iteri =0 \n",
    "# Print the data\n",
    "\n",
    "for i,row in enumerate(data):\n",
    "    if i == 0:\n",
    "        continue\n",
    "    if i == 1:\n",
    "        for j in range(0,int(len(row)/2)):\n",
    "            protein_name.append(row[(j*2)])\n",
    "    if i > 1:        \n",
    "        for j in range(0,int(len(row)/2)):\n",
    "            mot = row[(j*2)]\n",
    "            r1 = row[(j*2)+1]\n",
    "            if mot not in strong_motifs and mot!=None and r1 >= 0.1:\n",
    "                strong_motifs.append(mot)\n",
    "                seq_only.append(mot)\n",
    "                motif_tup.append((protein_name[j],mot,iteri))\n",
    "                iteri +=1\n",
    "                r1_val.append(r1)\n",
    "            elif mot in strong_motifs: \n",
    "                ind = find_index(mot,strong_motifs)\n",
    "                if r1_val[ind] < r1 :\n",
    "                    r1_val[ind] = r1\n",
    "\n",
    "\n",
    "print (motif_tup)\n",
    "print (len(protein_name))\n",
    "print (\"Strong motifs with stepwise R-1 above 0.1:\",sum(np.array(r1_val) > 0.1 * 1))"
   ]
  },
  {
   "cell_type": "code",
   "execution_count": 5,
   "id": "0dbfed46",
   "metadata": {},
   "outputs": [
    {
     "data": {
      "image/png": "[encoded data removed]",
      "text/plain": [
       "<Figure size 800x600 with 1 Axes>"
      ]
     },
     "metadata": {},
     "output_type": "display_data"
    }
   ],
   "source": [
    "import matplotlib.pyplot as plt\n",
    "\n",
    "def create_histogram(data, bins):\n",
    "    plt.figure(figsize=(8, 6))\n",
    "    plt.hist(data, bins=bins)\n",
    "    plt.ylabel('Counts')\n",
    "    plt.xlabel('Step r1 values')\n",
    "    plt.title('5mer motifs divided into 15 bins')\n",
    "    #plt.xticks(data)\n",
    "    plt.show()\n",
    "\n",
    "create_histogram(r1_val,20)"
   ]
  },
  {
   "cell_type": "code",
   "execution_count": 25,
   "id": "66dfe56a",
   "metadata": {},
   "outputs": [],
   "source": [
    "from random_utils import MotifMetrics, LoadedMotifMetrics, MetricsHandler\n",
    "from motifs import MotfiHandler\n",
    "\n",
    "new_motifs = MotfiHandler(motif_tup)\n",
    "# paths\n",
    "data_dir = \"/home/anas/Desktop/code/ML4RG-2023-project/dataset/data/\"\n",
    "results_dir = data_dir + \"results/\"\n",
    "\n",
    "scer_paths = [\n",
    "    results_dir + \"best_markov/\",\n",
    "    results_dir + \"dinuc/\",\n",
    "    results_dir + \"dna_bert/cheng_bertadn/\",\n",
    "    results_dir + \"species_agnostic/\",\n",
    "    results_dir + \"species_aware_in_scer/\",\n",
    "]\n",
    "\n",
    "# how to name the models (same order as above)\n",
    "scer_names= [\"11-mer\",\n",
    "        \"Dinucleotide distribution\",\n",
    "        \"DNABERT\",\n",
    "        \"Species-agnostic\", \n",
    "        \"Species-aware\"]\n",
    "\n",
    "# test set \n",
    "scer_test_path = data_dir + \"Scer_half_life.csv\""
   ]
  },
  {
   "cell_type": "code",
   "execution_count": 7,
   "id": "87f7021a",
   "metadata": {},
   "outputs": [],
   "source": [
    "our_config = {\"fixed_length\":5,\"exclude_random\":motif_tup}\n",
    "import pickle \n",
    "with open(\"../../data/exclude_motifs.pickle\", \"wb\") as f:\n",
    "    pickle.dump(our_config, f)\n",
    "# combining all metrics\n",
    "# scer_mh = MetricsHandler(scer_paths, scer_names, scer_test_path, \n",
    "#                          motifs=new_motifs, seq_col=\"UTR3_seq\",\n",
    "#                          n_random_kmers=10,existing_probas=[True, False,True,False,False,],optional_config=our_config)"
   ]
  },
  {
   "cell_type": "code",
   "execution_count": 27,
   "id": "42579ba0",
   "metadata": {},
   "outputs": [
    {
     "name": "stdout",
     "output_type": "stream",
     "text": [
      "['AATTA', 'TTTTT', 'TATGT', 'ACACA', 'ATATA', 'GTTGC', 'GGGGG', 'TATAT', 'TATAG', 'TATTA', 'TAATT', 'GCCCA', 'ATAAA', 'TGTAT', 'CGCTT', 'TAGTT', 'TTCAT', 'AAAAA', 'GCCCC', 'CCCCC', 'ATCCC', 'ATAAG', 'TTTCT', 'GCATG', 'ACCGG', 'GTGTG', 'GCGCG', 'TACTT', 'ACGCA', 'AATCA', 'CGTCC', 'ATATT', 'TAACA', 'TGTAA', 'TGCAC', 'AGCAG', 'AGGGG', 'GCAGC', 'AGGAG', 'GTATG', 'GAAGA', 'TTAGT', 'TTAAT', 'TATTT', 'GGATG', 'TTTGT', 'ACAGA', 'TTTTA', 'GCGAG', 'TTATT', 'GGTGG', 'ATTAG', 'ATTTT', 'TAATA', 'CACGC', 'ACATA', 'ATACA', 'CAACA', 'TTAAA', 'TGTTT', 'GCTGC', 'AAAAG', 'AAAAT', 'CCCCA', 'TTCCC', 'TCTTT', 'TTCTT', 'GCACG', 'TCCGG', 'CCTCC', 'GTGTT', 'GGGGC', 'GCGCA', 'TACAT', 'CGCGG', 'GTCCC', 'TTATA', 'TAACC', 'GTAAG', 'GCACA', 'GCAGT', 'AGGAA', 'AAGAA', 'ATTAA', 'GATCG', 'TGTGT', 'TATAA', 'CGCCG', 'GGGGT', 'GGGTG', 'TTTAT', 'TTTAG', 'GGGTA', 'TAAAT', 'TGGGG', 'CATCA', 'TAAAA', 'CGCGC', 'ATGAG', 'CTATC', 'TCTCT', 'TGTAC', 'TACCG', 'GCGTA', 'TACGT', 'ATAAT', 'GCGGG', 'TCCAC', 'TAGTG', 'AGCAC', 'CAGCA', 'AGGGA', 'TGCAG', 'GCGCC', 'GAATG', 'ATTTA', 'TTTAA', 'CGGAC', 'TGTCT', 'ACAGT', 'ATAGT', 'GGTCG', 'AGGTG', 'ATTAT', 'GGGAG', 'TGCTT', 'CTTTT', 'GCGTG', 'AAATT', 'GTAAT', 'CGCAC', 'AGAGG', 'TCCAG', 'TGGAG', 'GAGTG', 'CTTAA', 'ATTCC', 'CACAG', 'AGGGT', 'CTTCT', 'CGCGT', 'ATCCA', 'AGTAA', 'GGGAA', 'GGACG', 'ACAGC', 'CGCTA', 'TCTAT', 'GGGGA', 'GCGCT', 'CCACC', 'GGGAC', 'TGCGT', 'GCCGC']\n"
     ]
    }
   ],
   "source": [
    "print (seq_only)"
   ]
  },
  {
   "cell_type": "code",
   "execution_count": 28,
   "id": "c96b97e5",
   "metadata": {},
   "outputs": [
    {
     "data": {
      "text/plain": [
       "0         (347188, 347193)\n",
       "1         (197634, 197639)\n",
       "2         (451290, 451295)\n",
       "3         (218729, 218734)\n",
       "4         (571402, 571407)\n",
       "                ...       \n",
       "166427    (615891, 615896)\n",
       "166428    (619890, 619895)\n",
       "166429    (627375, 627380)\n",
       "166430    (632003, 632008)\n",
       "166431    (633109, 633114)\n",
       "Name: motif_range, Length: 166432, dtype: object"
      ]
     },
     "execution_count": 28,
     "metadata": {},
     "output_type": "execute_result"
    }
   ],
   "source": [
    "scer_mh.motif_df[\"motif_range\"]"
   ]
  },
  {
   "cell_type": "code",
   "execution_count": null,
   "id": "c42194e8",
   "metadata": {},
   "outputs": [],
   "source": []
  }
 ],
 "metadata": {
  "kernelspec": {
   "display_name": "Python 3 (ipykernel)",
   "language": "python",
   "name": "python3"
  },
  "language_info": {
   "codemirror_mode": {
    "name": "ipython",
    "version": 3
   },
   "file_extension": ".py",
   "mimetype": "text/x-python",
   "name": "python",
   "nbconvert_exporter": "python",
   "pygments_lexer": "ipython3",
   "version": "3.9.16"
  }
 },
 "nbformat": 4,
 "nbformat_minor": 5
}
